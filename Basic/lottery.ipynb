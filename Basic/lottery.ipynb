{
 "cells": [
  {
   "cell_type": "code",
   "execution_count": 1,
   "metadata": {},
   "outputs": [
    {
     "name": "stdout",
     "output_type": "stream",
     "text": [
      "[1, 1, 1, 13, 15, 24]\n",
      "[1, 1, 1, 13, 15, 24, 35]\n"
     ]
    },
    {
     "data": {
      "text/plain": [
       "[1, 1, 1, 13, 15, 24, 35]"
      ]
     },
     "execution_count": 1,
     "metadata": {},
     "output_type": "execute_result"
    }
   ],
   "source": [
    "from random import randint\n",
    "\n",
    "def generate_numbers() :\n",
    "    numbers = [randint(1,45)]\n",
    "    i = 0\n",
    "    while len(numbers) != 6 :\n",
    "        temp = randint(1,45)\n",
    "        while temp in numbers :\n",
    "            temp = randint(1,45)\n",
    "        for j in range(len(numbers)) :       # 처음에 나온 값을 넣어주는 구문을 만들어야 함\n",
    "            if temp < numbers[j] :\n",
    "                numbers.insert(j,temp)\n",
    "    return numbers\n",
    "\n",
    "def draw_winning_numbers() :\n",
    "    numbers = generate_numbers()\n",
    "    print(numbers)\n",
    "    winning_numbers = list(numbers)        # list() 를 쓰지않고 변수에 넣어주면 2개의 변수가 같이 바뀜\n",
    "    temp = randint(1,45)\n",
    "    while temp in numbers :\n",
    "        temp = randint(1,45)\n",
    "    winning_numbers.append(temp)\n",
    "    print(winning_numbers)\n",
    "    return winning_numbers\n",
    "\n",
    "def count_matching_numbers(list1, list2) :\n",
    "    n = 0\n",
    "    for i in range(len(list1) - 1) :\n",
    "        if list1[i] in list2 :\n",
    "            n += 1\n",
    "    return n\n",
    "\n",
    "def check(numbers, winning_numbers) :\n",
    "    normal_numbers = list(winning_numbers)\n",
    "    del normal_numbers[6]\n",
    "    n = count_matching_numbers(numbers, normal_numbers)\n",
    "    if n == 6 :\n",
    "        prize = 1000000000\n",
    "    elif n == 5 :\n",
    "        if winning_numbers[6] in numbers :\n",
    "            prize == 50000000\n",
    "        else :\n",
    "            prize == 1000000\n",
    "    elif n == 4 :\n",
    "        prize = 50000\n",
    "    elif n == 3 :\n",
    "        prize = 10000\n",
    "        \n",
    "    return prize\n",
    "\n",
    "draw_winning_numbers()"
   ]
  },
  {
   "cell_type": "code",
   "execution_count": null,
   "metadata": {},
   "outputs": [],
   "source": []
  },
  {
   "cell_type": "code",
   "execution_count": null,
   "metadata": {},
   "outputs": [],
   "source": []
  }
 ],
 "metadata": {
  "kernelspec": {
   "display_name": "Python 3",
   "language": "python",
   "name": "python3"
  },
  "language_info": {
   "codemirror_mode": {
    "name": "ipython",
    "version": 3
   },
   "file_extension": ".py",
   "mimetype": "text/x-python",
   "name": "python",
   "nbconvert_exporter": "python",
   "pygments_lexer": "ipython3",
   "version": "3.6.4"
  }
 },
 "nbformat": 4,
 "nbformat_minor": 2
}
