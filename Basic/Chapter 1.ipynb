{
 "cells": [
  {
   "cell_type": "code",
   "execution_count": 3,
   "metadata": {},
   "outputs": [
    {
     "name": "stdout",
     "output_type": "stream",
     "text": [
      "드라마 '응답하라 1988'은 많은 시청자들에게 사랑을 받았습니다.\n",
      "데카르트는 \"나는 생각한다. 고로 존재한다.\"라고 말했다.\n"
     ]
    }
   ],
   "source": [
    "print(\"드라마 '응답하라 1988'은 많은 시청자들에게 사랑을 받았습니다.\")\n",
    "#문자열 해설\n",
    "print('데카르트는 \"나는 생각한다. 고로 존재한다.\"라고 말했다.')"
   ]
  },
  {
   "cell_type": "raw",
   "metadata": {},
   "source": [
    "year = 2016\n",
    "month = 3\n",
    "day = 19\n",
    "day_of_week = \"토\"\n",
    "\n",
    "print(day_of_week + \"요일\")"
   ]
  },
  {
   "cell_type": "code",
   "execution_count": 11,
   "metadata": {},
   "outputs": [
    {
     "name": "stdout",
     "output_type": "stream",
     "text": [
      "오늘은 2019년1월 16일 일요일입니다.\n",
      "오늘은 2019년 1월 16일 일요일입니다.\n",
      "1 나누기 3은 0.3333\n",
      "3 나누기 2.5는 1.200000\n"
     ]
    }
   ],
   "source": [
    "#문자열 포매팅\n",
    "year = 2019\n",
    "month = 1\n",
    "day = 16\n",
    "day_of_week = \"일\"\n",
    "\n",
    "print(\"오늘은 \" + str(year) + \"년\" + str(month) + \"월 \" + str(day) + \"일 \" + day_of_week + \"요일입니다.\")\n",
    "print(\"오늘은 %d년 %d월 %d일 %s요일입니다.\" % (year,month,day,day_of_week))\n",
    "\n",
    "print(\"1 나누기 3은 %.4f\" % (1.0/3))\n",
    "print(\"3 나누기 2.5는 %f\" % (3/2.5))"
   ]
  },
  {
   "cell_type": "code",
   "execution_count": 13,
   "metadata": {},
   "outputs": [
    {
     "name": "stdout",
     "output_type": "stream",
     "text": [
      "5시간에 25달러 벌었습니다.\n"
     ]
    }
   ],
   "source": [
    "wage = 5\n",
    "exchange_rate = 1280.16\n",
    "print(\"%d시간에 %d%s 벌었습니다.\" % (5, wage * 5, \"달러\"))"
   ]
  },
  {
   "cell_type": "code",
   "execution_count": 30,
   "metadata": {},
   "outputs": [
    {
     "name": "stdout",
     "output_type": "stream",
     "text": [
      "True\n",
      "False\n",
      "True\n",
      "False\n",
      "False\n",
      "True\n",
      "True\n",
      "True\n",
      "False\n",
      "True\n",
      "False\n",
      "True\n",
      "False\n",
      "False\n"
     ]
    }
   ],
   "source": [
    "#Boolean Algebra\n",
    "#값 -> 불 대수에서는 진리값(true, false)으로 표현\n",
    "#연산 -> 불 대수에서는 AND, OR , NOT 이 있음\n",
    "#명제 = 참 또는 거짓이 확실한 문장\n",
    "print(True)\n",
    "print(False)\n",
    "print(True and True)\n",
    "print(True and False)\n",
    "print(not True)\n",
    "print(not False)\n",
    "print(2 > 1)\n",
    "print(2 == 2)\n",
    "print(2 != 2)\n",
    "print(\"Hello\" == \"Hello\")\n",
    "print(\"Hello\" != \"Hello\")\n",
    "print(not not True)\n",
    "print(not(2 > 1) == True)\n",
    "print(2 < 1)"
   ]
  },
  {
   "cell_type": "code",
   "execution_count": 32,
   "metadata": {},
   "outputs": [
    {
     "name": "stdout",
     "output_type": "stream",
     "text": [
      "<class 'int'>\n",
      "<class 'float'>\n",
      "<class 'str'>\n",
      "<class 'bool'>\n",
      "<class 'bool'>\n",
      "<class 'builtin_function_or_method'>\n",
      "False\n"
     ]
    }
   ],
   "source": [
    "print(type(1))\n",
    "print(type(2.5))\n",
    "print(type(\"2.5\"))\n",
    "print(type(True))\n",
    "print(type(2>1))\n",
    "print(type(print))\n",
    "\n",
    "#and 연산 시 앞의 것이 false이면 뒤에것은 계산도 안함. 심지어 뒤에 것이 문법적으로 말이 안되도 앞이 false면 걍 false 출력해버림\n",
    "#or 연산 시 앞의 것이 true 이면 그냥 출력함\n",
    "\n",
    "print(2 == 1 and 2 == e)"
   ]
  },
  {
   "cell_type": "code",
   "execution_count": 44,
   "metadata": {},
   "outputs": [
    {
     "name": "stdout",
     "output_type": "stream",
     "text": [
      "2.0\n",
      "2.0\n",
      "2\n",
      "//를 쓰면 두개의 인트 수가 연산되서 딱 떨어지면 동일하게 인트로 반환\n",
      "2.0\n"
     ]
    },
    {
     "ename": "ValueError",
     "evalue": "could not convert string to float: '5/2'",
     "output_type": "error",
     "traceback": [
      "\u001b[1;31m---------------------------------------------------------------------------\u001b[0m",
      "\u001b[1;31mValueError\u001b[0m                                Traceback (most recent call last)",
      "\u001b[1;32m<ipython-input-44-dd2f20c5d346>\u001b[0m in \u001b[0;36m<module>\u001b[1;34m()\u001b[0m\n\u001b[0;32m      8\u001b[0m \u001b[0mprint\u001b[0m\u001b[1;33m(\u001b[0m\u001b[1;36m4\u001b[0m \u001b[1;33m/\u001b[0m \u001b[1;36m2\u001b[0m\u001b[1;33m)\u001b[0m\u001b[1;33m\u001b[0m\u001b[0m\n\u001b[0;32m      9\u001b[0m \u001b[1;33m\u001b[0m\u001b[0m\n\u001b[1;32m---> 10\u001b[1;33m \u001b[0mprint\u001b[0m\u001b[1;33m(\u001b[0m\u001b[0mfloat\u001b[0m\u001b[1;33m(\u001b[0m\u001b[1;34m\"5/2\"\u001b[0m\u001b[1;33m)\u001b[0m\u001b[1;33m)\u001b[0m\u001b[1;33m\u001b[0m\u001b[0m\n\u001b[0m\u001b[0;32m     11\u001b[0m \u001b[0mprint\u001b[0m\u001b[1;33m(\u001b[0m\u001b[1;34m\"이 경우에는 5/2를 2.5로 생각하기 쉽지만 사실은 5/2 자체라서 float으로 변환이 안되는 문구이다 따라서 에러가 뜬다\"\u001b[0m\u001b[1;33m)\u001b[0m\u001b[1;33m\u001b[0m\u001b[0m\n\u001b[0;32m     12\u001b[0m \u001b[0mprint\u001b[0m\u001b[1;33m(\u001b[0m\u001b[1;34m\"\\n반올림 round\"\u001b[0m\u001b[1;33m)\u001b[0m\u001b[1;33m\u001b[0m\u001b[0m\n",
      "\u001b[1;31mValueError\u001b[0m: could not convert string to float: '5/2'"
     ]
    }
   ],
   "source": [
    "#자료형 꿀팁\n",
    "# //를 쓰면 나눈 뒤 나머지를 날림\n",
    "\n",
    "print(5.0 // 2)\n",
    "print(5 // 2.0)\n",
    "print(4 // 2)\n",
    "print(\"//를 쓰면 두개의 인트 수가 연산되서 딱 떨어지면 동일하게 인트로 반환\")\n",
    "print(4 / 2)\n",
    "\n",
    "print(float(\"5/2\"))\n",
    "print(\"이 경우에는 5/2를 2.5로 생각하기 쉽지만 사실은 5/2 자체라서 float으로 변환이 안되는 문구이다 따라서 에러가 뜬다\")\n",
    "print(\"\\n반올림 round\")\n",
    "print(round(1.52355, 1))\n",
    "print(round(6.3556234, 3))\n",
    "\n",
    "print(\"\\n줄바꿈 기호 Newline character\")\n",
    "print(\"안녕하세요\\n환영합니다\\n앞으로 기대해주세요\")"
   ]
  },
  {
   "cell_type": "code",
   "execution_count": null,
   "metadata": {},
   "outputs": [],
   "source": []
  }
 ],
 "metadata": {
  "kernelspec": {
   "display_name": "Python 3",
   "language": "python",
   "name": "python3"
  },
  "language_info": {
   "codemirror_mode": {
    "name": "ipython",
    "version": 3
   },
   "file_extension": ".py",
   "mimetype": "text/x-python",
   "name": "python",
   "nbconvert_exporter": "python",
   "pygments_lexer": "ipython3",
   "version": "3.6.4"
  }
 },
 "nbformat": 4,
 "nbformat_minor": 2
}
