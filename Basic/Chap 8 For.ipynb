{
 "cells": [
  {
   "cell_type": "code",
   "execution_count": 5,
   "metadata": {},
   "outputs": [
    {
     "name": "stdout",
     "output_type": "stream",
     "text": [
      "나\n",
      "나\n",
      "1\n",
      "9\n",
      "25\n",
      "49\n",
      "81\n"
     ]
    }
   ],
   "source": [
    "we = [\"너\", \"나\"]\n",
    "for mu in we :\n",
    "    print(member)\n",
    "\n",
    "for num in [1, 3, 5, 7, 9] :\n",
    "    print(num * num)"
   ]
  },
  {
   "cell_type": "code",
   "execution_count": 9,
   "metadata": {},
   "outputs": [
    {
     "name": "stdout",
     "output_type": "stream",
     "text": [
      "1\n",
      "2\n",
      "3\n",
      "4\n",
      "5\n",
      "6\n",
      "7\n",
      "8\n",
      "9\n",
      "10\n",
      "1\n",
      "2\n",
      "3\n",
      "4\n",
      "5\n",
      "6\n",
      "7\n",
      "8\n",
      "9\n",
      "1\n",
      "4\n",
      "7\n",
      "10\n",
      "13\n",
      "[0, 1, 2, 3, 4, 6, 7, 8, 9]\n"
     ]
    }
   ],
   "source": [
    "for i in [1, 2, 3, 4, 5, 6, 7, 8, 9, 10] :\n",
    "    print(i)\n",
    "    \n",
    "# 1부터 100까지 써야 한다면?\n",
    "\n",
    "for i in range(1,10) : # 이렇게 간격을 지정하면 10은 출력되지 않는다.\n",
    "    print(i)\n",
    "    \n",
    "for i in range(1, 15, 3) :  # 간격까지 정해줌\n",
    "    print(i)\n",
    "    \n",
    "# range 장점 : 간편함, 깔끔함, 메모리 효율성\n",
    "print(list(range(5))+list(range(6,10)))"
   ]
  },
  {
   "cell_type": "code",
   "execution_count": 13,
   "metadata": {},
   "outputs": [
    {
     "name": "stdout",
     "output_type": "stream",
     "text": [
      "[2, 3, 4, 7, 11]\n",
      "[2, 3, 4, 7, 11]\n"
     ]
    }
   ],
   "source": [
    "x = [2, 3, 5, 7, 11]\n",
    "y = x\n",
    "y[2] = 4\n",
    "\n",
    "print(x)\n",
    "print(y) # 값이 같은 이름을 공유하는 것이 아니라 이름들이 하나의 값들을 공유"
   ]
  },
  {
   "cell_type": "code",
   "execution_count": 14,
   "metadata": {},
   "outputs": [
    {
     "name": "stdout",
     "output_type": "stream",
     "text": [
      "[2, 3, 5, 7, 11]\n",
      "[2, 3, 4, 7, 11]\n"
     ]
    }
   ],
   "source": [
    "x = [2, 3, 5, 7, 11]\n",
    "y = list(x)  # list 를 복사하여 새로운 list를 만듬\n",
    "y[2] = 4\n",
    "\n",
    "\n",
    "print(x)\n",
    "print(y)"
   ]
  },
  {
   "cell_type": "code",
   "execution_count": 25,
   "metadata": {},
   "outputs": [
    {
     "name": "stdout",
     "output_type": "stream",
     "text": [
      "A\n",
      "B\n",
      "C \n",
      "['B', 'C ']\n",
      "a\n",
      "abc\n",
      "[1, 2, 3, 4, 5, 6, 7, 8]\n",
      "12\n"
     ]
    }
   ],
   "source": [
    "alphabet_list = ['A', 'B', 'C ', 'D', 'E']\n",
    "\n",
    "print(alphabet_list[0])\n",
    "print(alphabet_list[1])\n",
    "print(alphabet_list[2])\n",
    "print(alphabet_list[1:3])\n",
    "\n",
    "alphabet_string = 'abcdef'\n",
    "\n",
    "print(alphabet_string[0])\n",
    "print(alphabet_string[:3])\n",
    "\n",
    "list1 = [1, 2, 3, 4]\n",
    "list2 = [5, 6 ,7, 8]\n",
    "\n",
    "print(list1 + list2)\n",
    "print(len(\"Hello World!\"))\n",
    "\n",
    "# 문자열은 list와 달리 변경이 불가\n"
   ]
  },
  {
   "cell_type": "code",
   "execution_count": 27,
   "metadata": {},
   "outputs": [
    {
     "name": "stdout",
     "output_type": "stream",
     "text": [
      "12345677\n"
     ]
    }
   ],
   "source": [
    "i = 12345677\n",
    "print(str(i))"
   ]
  },
  {
   "cell_type": "code",
   "execution_count": null,
   "metadata": {},
   "outputs": [],
   "source": [
    "\n",
    "def sum_digit(num):\n",
    "    str_num = str(num)\n",
    "\tsum_digit = 0\n",
    "    for digit in str_num :\n",
    "    \tsum_digit += int(digit)\n",
    "    return sum_digit\n",
    "sum_result = 0\n",
    "for i in range(1, 1001) :\n",
    "    sum_result += sum_digit(i)\n",
    "print(sum_result)"
   ]
  },
  {
   "cell_type": "code",
   "execution_count": 45,
   "metadata": {},
   "outputs": [
    {
     "name": "stdout",
     "output_type": "stream",
     "text": [
      "880720-123****\n",
      "880720123****\n",
      "930124-765****\n",
      "930124765****\n",
      "761214-235****\n",
      "761214235****\n"
     ]
    }
   ],
   "source": [
    "def mask_security_number(security_number):\n",
    "    security_number_list = list(security_number)\n",
    "    for i in range(len(security_number) - 4, len(security_number)) :\n",
    "        security_number_list[i] = '*'\n",
    "    security_number_str = \"\".join(security_number_list) # join 함수의 사용?\n",
    "    return security_number_str\n",
    "    \n",
    "\n",
    "print(mask_security_number(\"880720-1234567\"))\n",
    "print(mask_security_number(\"8807201234567\"))\n",
    "print(mask_security_number(\"930124-7654321\"))\n",
    "print(mask_security_number(\"9301247654321\"))\n",
    "print(mask_security_number(\"761214-2357111\"))\n",
    "print(mask_security_number(\"7612142357111\"))"
   ]
  },
  {
   "cell_type": "code",
   "execution_count": 46,
   "metadata": {},
   "outputs": [
    {
     "name": "stdout",
     "output_type": "stream",
     "text": [
      "880720-123****\n",
      "880720123****\n",
      "930124-765****\n",
      "930124765****\n",
      "761214-235****\n",
      "761214235****\n"
     ]
    }
   ],
   "source": [
    "def mask_security_number(security_number):\n",
    "    return security_number[:len(security_number) - 4] + '****'\n",
    "    \n",
    "\n",
    "print(mask_security_number(\"880720-1234567\"))\n",
    "print(mask_security_number(\"8807201234567\"))\n",
    "print(mask_security_number(\"930124-7654321\"))\n",
    "print(mask_security_number(\"9301247654321\"))\n",
    "print(mask_security_number(\"761214-2357111\"))\n",
    "print(mask_security_number(\"7612142357111\"))"
   ]
  },
  {
   "cell_type": "code",
   "execution_count": 48,
   "metadata": {},
   "outputs": [
    {
     "name": "stdout",
     "output_type": "stream",
     "text": [
      "True\n",
      "False\n",
      "True\n",
      "True\n",
      "False\n"
     ]
    }
   ],
   "source": [
    "def is_palindrome(word):\n",
    "    for i in range(int(len(word)/2)) :\n",
    "        left_index = i\n",
    "        right_index = len(word) - 1 - i\n",
    "        if word[left_index] != word[right_index] :\n",
    "            return False\n",
    "    return True\n",
    "\n",
    "print(is_palindrome(\"racecar\"))\n",
    "print(is_palindrome(\"stars\"))\n",
    "print(is_palindrome(\"토마토\"))\n",
    "print(is_palindrome(\"kayak\"))\n",
    "print(is_palindrome(\"hello\"))"
   ]
  },
  {
   "cell_type": "code",
   "execution_count": 1,
   "metadata": {},
   "outputs": [
    {
     "name": "stdout",
     "output_type": "stream",
     "text": [
      "0과 9 사이의 서로 다른 세 숫자를 랜덤한 순서로 뽑았습니다.\n",
      "세 수를 하나씩 차례대로 입력하세요\n",
      "1번째 수를 입력하세요: 1\n",
      "2번째 수를 입력하세요: 1\n",
      "중복되는 수 입니다. 다시 입력해주세요.\n",
      "2번째 수를 입력하세요: 10\n",
      "범위를 벗어난 수 입니다. 다시 입력해주세요\n",
      "2번째 수를 입력하세요: 5\n",
      "3번째 수를 입력하세요: 9\n",
      "0S 1B\n",
      "1번째 수를 입력하세요: 2\n",
      "2번째 수를 입력하세요: 9\n",
      "3번째 수를 입력하세요: 8\n",
      "0S 1B\n",
      "1번째 수를 입력하세요: 9\n",
      "2번째 수를 입력하세요: 7\n",
      "3번째 수를 입력하세요: 3\n",
      "1S 0B\n",
      "1번째 수를 입력하세요: 9\n",
      "2번째 수를 입력하세요: 0\n",
      "3번째 수를 입력하세요: 6\n",
      "0S 0B\n",
      "1번째 수를 입력하세요: 4\n",
      "2번째 수를 입력하세요: 7\n",
      "3번째 수를 입력하세요: 5\n",
      "1S 0B\n",
      "1번째 수를 입력하세요: 8\n",
      "2번째 수를 입력하세요: 7\n",
      "3번째 수를 입력하세요: 2\n",
      "2S 0B\n",
      "1번째 수를 입력하세요: 8\n",
      "2번째 수를 입력하세요: 7\n",
      "3번째 수를 입력하세요: 1\n",
      "3S 0B\n",
      "축하합니다. 7번 만에 세 숫자의 값과 위치를 모두 맞추셨습니다.\n"
     ]
    }
   ],
   "source": [
    "from random import randint\n",
    "\n",
    "answer = []\n",
    "myanswer = []\n",
    "\n",
    "i = 0                # 세 숫자를 랜덤한 순서로 뽑음\n",
    "while i < 3 :\n",
    "    num = randint(0,9)\n",
    "    while num in answer :\n",
    "        num = randint(0,9)\n",
    "    answer.append(num)\n",
    "    i += 1\n",
    "print(\"0과 9 사이의 서로 다른 세 숫자를 랜덤한 순서로 뽑았습니다.\")\n",
    "print(\"세 수를 하나씩 차례대로 입력하세요\")                    \n",
    "\n",
    "count = 0\n",
    "strike = 0\n",
    "ball = 0 \n",
    "        \n",
    "while strike != 3 :\n",
    "    count += 1\n",
    "    k = 1\n",
    "    n = 0     # while 문에서 단순한 횟수 증가를 세기 위한 변수도 변수명을 구체적으로 만들어 줘야하나요\n",
    "    strike = 0\n",
    "    ball = 0 \n",
    "    myanswer = []\n",
    "    while k < 4 :\n",
    "        temp = (int(input(\"%d번째 수를 입력하세요: \" % (k))))\n",
    "        if temp in myanswer :\n",
    "            print(\"중복되는 수 입니다. 다시 입력해주세요.\")\n",
    "            continue\n",
    "        elif temp > 9 or temp < 0 :\n",
    "            print(\"범위를 벗어난 수 입니다. 다시 입력해주세요\")\n",
    "            continue\n",
    "        myanswer.append(temp) # input값은 항상 str로 들어가니까 int로 바꿔줘야\n",
    "        k += 1\n",
    "    while n < len(answer) :\n",
    "        if answer[n] == myanswer[n] :\n",
    "            strike += 1\n",
    "        elif answer[n] in myanswer :\n",
    "            ball += 1\n",
    "        n += 1\n",
    "    print(\"%dS %dB\" % (strike, ball))\n",
    "    \n",
    "print(\"축하합니다. %d번 만에 세 숫자의 값과 위치를 모두 맞추셨습니다.\" % (count))"
   ]
  },
  {
   "cell_type": "code",
   "execution_count": null,
   "metadata": {},
   "outputs": [],
   "source": []
  }
 ],
 "metadata": {
  "kernelspec": {
   "display_name": "Python 3",
   "language": "python",
   "name": "python3"
  },
  "language_info": {
   "codemirror_mode": {
    "name": "ipython",
    "version": 3
   },
   "file_extension": ".py",
   "mimetype": "text/x-python",
   "name": "python",
   "nbconvert_exporter": "python",
   "pygments_lexer": "ipython3",
   "version": "3.6.4"
  }
 },
 "nbformat": 4,
 "nbformat_minor": 2
}
