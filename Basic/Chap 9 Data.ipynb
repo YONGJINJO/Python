{
 "cells": [
  {
   "cell_type": "code",
   "execution_count": 15,
   "metadata": {},
   "outputs": [
    {
     "name": "stdout",
     "output_type": "stream",
     "text": [
      "<class '_io.TextIOWrapper'>\n"
     ]
    },
    {
     "ename": "TypeError",
     "evalue": "object of type '_io.TextIOWrapper' has no len()",
     "output_type": "error",
     "traceback": [
      "\u001b[1;31m---------------------------------------------------------------------------\u001b[0m",
      "\u001b[1;31mTypeError\u001b[0m                                 Traceback (most recent call last)",
      "\u001b[1;32m<ipython-input-15-35f834173ba2>\u001b[0m in \u001b[0;36m<module>\u001b[1;34m()\u001b[0m\n\u001b[0;32m      1\u001b[0m \u001b[0min_file\u001b[0m \u001b[1;33m=\u001b[0m \u001b[0mopen\u001b[0m\u001b[1;33m(\u001b[0m\u001b[1;34m'test.txt'\u001b[0m\u001b[1;33m,\u001b[0m \u001b[1;34m'r'\u001b[0m\u001b[1;33m)\u001b[0m\u001b[1;33m\u001b[0m\u001b[0m\n\u001b[0;32m      2\u001b[0m \u001b[0mprint\u001b[0m\u001b[1;33m(\u001b[0m\u001b[0mtype\u001b[0m\u001b[1;33m(\u001b[0m\u001b[0min_file\u001b[0m\u001b[1;33m)\u001b[0m\u001b[1;33m)\u001b[0m\u001b[1;33m\u001b[0m\u001b[0m\n\u001b[1;32m----> 3\u001b[1;33m \u001b[0mprint\u001b[0m\u001b[1;33m(\u001b[0m\u001b[0mlen\u001b[0m\u001b[1;33m(\u001b[0m\u001b[0min_file\u001b[0m\u001b[1;33m)\u001b[0m\u001b[1;33m)\u001b[0m\u001b[1;33m\u001b[0m\u001b[0m\n\u001b[0m\u001b[0;32m      4\u001b[0m \u001b[1;32mfor\u001b[0m \u001b[0mline\u001b[0m \u001b[1;32min\u001b[0m \u001b[0min_file\u001b[0m \u001b[1;33m:\u001b[0m\u001b[1;33m\u001b[0m\u001b[0m\n\u001b[0;32m      5\u001b[0m     \u001b[0mprint\u001b[0m\u001b[1;33m(\u001b[0m\u001b[0mline\u001b[0m\u001b[1;33m.\u001b[0m\u001b[0mstrip\u001b[0m\u001b[1;33m(\u001b[0m\u001b[1;33m)\u001b[0m\u001b[1;33m)\u001b[0m\u001b[1;33m\u001b[0m\u001b[0m\n",
      "\u001b[1;31mTypeError\u001b[0m: object of type '_io.TextIOWrapper' has no len()"
     ]
    }
   ],
   "source": [
    "in_file = open('test.txt', 'r')\n",
    "print(type(in_file))\n",
    "\n",
    "for line in in_file :\n",
    "    print(line.strip())\n",
    "    \n",
    "print(in_file.read())\n",
    "in_file.close()     # 파일을 닫지 않고 계속 두면 메모리 낭비"
   ]
  },
  {
   "cell_type": "code",
   "execution_count": 7,
   "metadata": {},
   "outputs": [
    {
     "name": "stdout",
     "output_type": "stream",
     "text": [
      "hello\n",
      "\n",
      "hello\n",
      "abc          def\n",
      "dfes      ef\n"
     ]
    }
   ],
   "source": [
    "print('hello\\n')\n",
    "print('hello')\n",
    "print(\"        abc          def     \".strip())          # 앞의 공백을 지워줌\n",
    "print(\"            \\n       dfes      ef\".strip())"
   ]
  },
  {
   "cell_type": "code",
   "execution_count": 14,
   "metadata": {},
   "outputs": [
    {
     "name": "stdout",
     "output_type": "stream",
     "text": [
      "['1', '2', '3', '4', '5', '6']\n",
      "10\n",
      "['1', '0']\n"
     ]
    }
   ],
   "source": [
    "numbers = \"1. 2. 3. 4. 5. 6\"\n",
    "print(numbers.split(\". \"))\n",
    "\n",
    "full_name = \"Kim, Yuna\"\n",
    "name_data = full_name.split(\", \")\n",
    "first_name = name_data[0]\n",
    "last_name = name_data[1]\n",
    "\n",
    "number = input()\n",
    "numbers = [i for i in number]\n",
    "print(numbers)"
   ]
  },
  {
   "cell_type": "code",
   "execution_count": 21,
   "metadata": {},
   "outputs": [
    {
     "name": "stdout",
     "output_type": "stream",
     "text": [
      "<class '_io.TextIOWrapper'>\n",
      "1일: 453400\n",
      "\n",
      "2일: 388600\n",
      "\n",
      "3일: 485300\n",
      "\n",
      "4일: 477900\n",
      "\n",
      "5일: 432100\n",
      "\n",
      "6일: 665300\n",
      "\n",
      "7일: 592500\n",
      "\n",
      "8일: 465200\n",
      "\n",
      "9일: 413200\n",
      "\n",
      "10일: 523000\n",
      "\n",
      "11일: 488600\n",
      "\n",
      "12일: 431500\n",
      "\n",
      "13일: 682300\n",
      "\n",
      "14일: 633700\n",
      "\n",
      "15일: 482300\n",
      "\n",
      "16일: 391400\n",
      "\n",
      "17일: 512500\n",
      "\n",
      "18일: 488900\n",
      "\n",
      "19일: 434500\n",
      "\n",
      "20일: 645200\n",
      "\n",
      "21일: 599200\n",
      "\n",
      "22일: 472400\n",
      "\n",
      "23일: 469100\n",
      "\n",
      "24일: 381400\n",
      "\n",
      "25일: 425800\n",
      "\n",
      "26일: 512900\n",
      "\n",
      "27일: 723000\n",
      "\n",
      "28일: 613600\n",
      "\n",
      "29일: 416700\n",
      "\n",
      "30일: 385600\n",
      "\n",
      "31일: 472300\n"
     ]
    }
   ],
   "source": [
    "in_file = open('test1.txt','r', encoding = 'utf-8')\n",
    "print(type(in_file))\n",
    "for line in in_file :\n",
    "    print(line)"
   ]
  },
  {
   "cell_type": "code",
   "execution_count": 25,
   "metadata": {},
   "outputs": [
    {
     "data": {
      "text/plain": [
       "<function TextIOWrapper.close>"
      ]
     },
     "execution_count": 25,
     "metadata": {},
     "output_type": "execute_result"
    }
   ],
   "source": [
    "out_file = open('write.txt', 'w')\n",
    "\n",
    "out_file.write(\"Hello World!\")\n",
    "out_file.write(\"My name is Codeit!\")\n",
    "\n",
    "out_file.close"
   ]
  },
  {
   "cell_type": "code",
   "execution_count": 27,
   "metadata": {},
   "outputs": [
    {
     "name": "stdout",
     "output_type": "stream",
     "text": [
      "영어 단어를 입력하세요: cat\n",
      "한국어 뜻을 입력하세요: 고양이\n",
      "영어 단어를 입력하세요: dog\n",
      "한국어 뜻을 입력하세요: 개\n",
      "영어 단어를 입력하세요: lion\n",
      "한국어 뜻을 입력하세요: 사자\n",
      "영어 단어를 입력하세요: q\n",
      "한국어 뜻을 입력하세요: q\n"
     ]
    }
   ],
   "source": [
    "out_file = open('vocabulary.txt', 'w')\n",
    "\n",
    "while True :\n",
    "    En = input(\"영어 단어를 입력하세요: \")\n",
    "    Kor = input(\"한국어 뜻을 입력하세요: \")\n",
    "    if En == \"q\" or Kor == \"q\" :\n",
    "        break\n",
    "    out_file.write(\"%s: %s\\n\" % (En, Kor))"
   ]
  },
  {
   "cell_type": "code",
   "execution_count": 32,
   "metadata": {},
   "outputs": [
    {
     "ename": "UnicodeDecodeError",
     "evalue": "'utf-8' codec can't decode byte 0xb0 in position 5: invalid start byte",
     "output_type": "error",
     "traceback": [
      "\u001b[1;31m---------------------------------------------------------------------------\u001b[0m",
      "\u001b[1;31mUnicodeDecodeError\u001b[0m                        Traceback (most recent call last)",
      "\u001b[1;32m<ipython-input-32-23c37009a5ab>\u001b[0m in \u001b[0;36m<module>\u001b[1;34m()\u001b[0m\n\u001b[0;32m      2\u001b[0m \u001b[1;33m\u001b[0m\u001b[0m\n\u001b[0;32m      3\u001b[0m \u001b[1;33m\u001b[0m\u001b[0m\n\u001b[1;32m----> 4\u001b[1;33m \u001b[1;32mfor\u001b[0m \u001b[0mline\u001b[0m \u001b[1;32min\u001b[0m \u001b[0mwords\u001b[0m \u001b[1;33m:\u001b[0m\u001b[1;33m\u001b[0m\u001b[0m\n\u001b[0m\u001b[0;32m      5\u001b[0m     \u001b[0mwords_sheet\u001b[0m \u001b[1;33m=\u001b[0m \u001b[0mwords\u001b[0m\u001b[1;33m.\u001b[0m\u001b[0mstrip\u001b[0m\u001b[1;33m(\u001b[0m\u001b[1;33m)\u001b[0m\u001b[1;33m.\u001b[0m\u001b[0msplit\u001b[0m\u001b[1;33m(\u001b[0m\u001b[1;34m\": \"\u001b[0m\u001b[1;33m)\u001b[0m\u001b[1;33m\u001b[0m\u001b[0m\n\u001b[0;32m      6\u001b[0m     \u001b[0manswer\u001b[0m \u001b[1;33m=\u001b[0m \u001b[0minput\u001b[0m\u001b[1;33m(\u001b[0m\u001b[1;34m\"%s: \"\u001b[0m \u001b[1;33m%\u001b[0m\u001b[1;33m(\u001b[0m\u001b[0mwords_sheet\u001b[0m\u001b[1;33m[\u001b[0m\u001b[1;36m1\u001b[0m\u001b[1;33m]\u001b[0m\u001b[1;33m)\u001b[0m\u001b[1;33m)\u001b[0m\u001b[1;33m\u001b[0m\u001b[0m\n",
      "\u001b[1;32m~\\Anaconda3\\lib\\codecs.py\u001b[0m in \u001b[0;36mdecode\u001b[1;34m(self, input, final)\u001b[0m\n\u001b[0;32m    319\u001b[0m         \u001b[1;31m# decode input (taking the buffer into account)\u001b[0m\u001b[1;33m\u001b[0m\u001b[1;33m\u001b[0m\u001b[0m\n\u001b[0;32m    320\u001b[0m         \u001b[0mdata\u001b[0m \u001b[1;33m=\u001b[0m \u001b[0mself\u001b[0m\u001b[1;33m.\u001b[0m\u001b[0mbuffer\u001b[0m \u001b[1;33m+\u001b[0m \u001b[0minput\u001b[0m\u001b[1;33m\u001b[0m\u001b[0m\n\u001b[1;32m--> 321\u001b[1;33m         \u001b[1;33m(\u001b[0m\u001b[0mresult\u001b[0m\u001b[1;33m,\u001b[0m \u001b[0mconsumed\u001b[0m\u001b[1;33m)\u001b[0m \u001b[1;33m=\u001b[0m \u001b[0mself\u001b[0m\u001b[1;33m.\u001b[0m\u001b[0m_buffer_decode\u001b[0m\u001b[1;33m(\u001b[0m\u001b[0mdata\u001b[0m\u001b[1;33m,\u001b[0m \u001b[0mself\u001b[0m\u001b[1;33m.\u001b[0m\u001b[0merrors\u001b[0m\u001b[1;33m,\u001b[0m \u001b[0mfinal\u001b[0m\u001b[1;33m)\u001b[0m\u001b[1;33m\u001b[0m\u001b[0m\n\u001b[0m\u001b[0;32m    322\u001b[0m         \u001b[1;31m# keep undecoded input until the next call\u001b[0m\u001b[1;33m\u001b[0m\u001b[1;33m\u001b[0m\u001b[0m\n\u001b[0;32m    323\u001b[0m         \u001b[0mself\u001b[0m\u001b[1;33m.\u001b[0m\u001b[0mbuffer\u001b[0m \u001b[1;33m=\u001b[0m \u001b[0mdata\u001b[0m\u001b[1;33m[\u001b[0m\u001b[0mconsumed\u001b[0m\u001b[1;33m:\u001b[0m\u001b[1;33m]\u001b[0m\u001b[1;33m\u001b[0m\u001b[0m\n",
      "\u001b[1;31mUnicodeDecodeError\u001b[0m: 'utf-8' codec can't decode byte 0xb0 in position 5: invalid start byte"
     ]
    }
   ],
   "source": [
    "words = open('vocabulary.txt', 'r', encoding = 'utf-8')\n",
    "\n",
    "\n",
    "for line in words :\n",
    "    words_sheet = words.strip().split(\": \")\n",
    "    answer = input(\"%s: \" %(words_sheet[1]))\n",
    "    if answer == words_sheet[0] :\n",
    "        print(\"맞았습니다.!\")\n",
    "    else :\n",
    "        print(\"아쉽습니다. 정답은 %s 입니다.\" % (answer[0]))\n",
    "\n",
    "words.close()"
   ]
  },
  {
   "cell_type": "code",
   "execution_count": 40,
   "metadata": {},
   "outputs": [
    {
     "name": "stdout",
     "output_type": "stream",
     "text": [
      "<class 'dict'>\n",
      "{5: 25, 3: 9, 2: 4}\n",
      "jennice\n",
      "dict_keys(['mom', 'dad', 'daughter', 'son'])\n",
      "True\n",
      "['mom', 'dad', 'daughter', 'son']\n",
      "4\n",
      "<class 'list'>\n"
     ]
    }
   ],
   "source": [
    "# dict는 key - value 로 구성된 쌍의 집합\n",
    "dict1 = {}\n",
    "print(type(dict1))\n",
    "\n",
    "# key 가 정수인 경우\n",
    "dict1[5] = 25\n",
    "dict1[3] = 9\n",
    "dict1[2] = 4\n",
    "\n",
    "print(dict1)\n",
    "\n",
    "# key가 정수가 아닌 경우\n",
    "family = {}\n",
    "family['mom'] = 'grace'\n",
    "family['dad'] = 'tom'\n",
    "family['daughter'] = 'jennice'\n",
    "family['son'] = 'billy'\n",
    "\n",
    "print(family['daughter'])\n",
    "\n",
    "print(family.keys())\n",
    "\n",
    "print('son' in family.keys())\n",
    "\n",
    "family_keys = list(family.keys())\n",
    "print(family_keys)\n",
    "print(len(family_keys))\n",
    "print(type(family_keys))"
   ]
  },
  {
   "cell_type": "code",
   "execution_count": 1,
   "metadata": {},
   "outputs": [
    {
     "ename": "UnsupportedOperation",
     "evalue": "not readable",
     "output_type": "error",
     "traceback": [
      "\u001b[1;31m---------------------------------------------------------------------------\u001b[0m",
      "\u001b[1;31mUnsupportedOperation\u001b[0m                      Traceback (most recent call last)",
      "\u001b[1;32m<ipython-input-1-683b66ad9600>\u001b[0m in \u001b[0;36m<module>\u001b[1;34m()\u001b[0m\n\u001b[0;32m      2\u001b[0m \u001b[1;33m\u001b[0m\u001b[0m\n\u001b[0;32m      3\u001b[0m \u001b[0mvoca\u001b[0m \u001b[1;33m=\u001b[0m \u001b[1;33m{\u001b[0m\u001b[1;33m}\u001b[0m\u001b[1;33m\u001b[0m\u001b[0m\n\u001b[1;32m----> 4\u001b[1;33m \u001b[1;32mfor\u001b[0m \u001b[0mline\u001b[0m \u001b[1;32min\u001b[0m \u001b[0mwords\u001b[0m \u001b[1;33m:\u001b[0m\u001b[1;33m\u001b[0m\u001b[0m\n\u001b[0m\u001b[0;32m      5\u001b[0m     \u001b[0mword\u001b[0m \u001b[1;33m=\u001b[0m \u001b[0mwords\u001b[0m\u001b[1;33m.\u001b[0m\u001b[0mstrip\u001b[0m\u001b[1;33m(\u001b[0m\u001b[1;33m)\u001b[0m\u001b[1;33m.\u001b[0m\u001b[0msplit\u001b[0m\u001b[1;33m(\u001b[0m\u001b[1;34m\": \"\u001b[0m\u001b[1;33m)\u001b[0m\u001b[1;33m\u001b[0m\u001b[0m\n\u001b[0;32m      6\u001b[0m     \u001b[0mvoca\u001b[0m\u001b[1;33m[\u001b[0m\u001b[0mword\u001b[0m\u001b[1;33m[\u001b[0m\u001b[1;36m1\u001b[0m\u001b[1;33m]\u001b[0m\u001b[1;33m]\u001b[0m \u001b[1;33m=\u001b[0m \u001b[0mword\u001b[0m\u001b[1;33m[\u001b[0m\u001b[1;36m0\u001b[0m\u001b[1;33m]\u001b[0m\u001b[1;33m\u001b[0m\u001b[0m\n",
      "\u001b[1;31mUnsupportedOperation\u001b[0m: not readable"
     ]
    }
   ],
   "source": [
    "words = open('vocabulary.txt', 'w', encoding = 'utf-8')\n",
    "\n",
    "voca = {}\n",
    "for line in words :\n",
    "    word = words.strip().split(\": \")\n",
    "    voca[word[1]] = word[0]\n",
    "\n",
    "while True :\n",
    "    voca_keys = list(voca.keys())\n",
    "    num = randint(0, len(voca_keys) - 1)\n",
    "    answer = input(\"%s : \" % (voca_keys[num]))\n",
    "    if answer == voca[voca_keys(num)] :\n",
    "        print(\"맞았습니다.\")\n",
    "    elif answer == \"q\" :\n",
    "        break\n",
    "    else :\n",
    "        print(\"틀렸습니다. 정답은 %s입니다.\" % (voca[voca_keys(num)]))\n",
    "\n",
    "words.close()"
   ]
  },
  {
   "cell_type": "code",
   "execution_count": null,
   "metadata": {},
   "outputs": [],
   "source": []
  }
 ],
 "metadata": {
  "kernelspec": {
   "display_name": "Python 3",
   "language": "python",
   "name": "python3"
  },
  "language_info": {
   "codemirror_mode": {
    "name": "ipython",
    "version": 3
   },
   "file_extension": ".py",
   "mimetype": "text/x-python",
   "name": "python",
   "nbconvert_exporter": "python",
   "pygments_lexer": "ipython3",
   "version": "3.6.4"
  }
 },
 "nbformat": 4,
 "nbformat_minor": 2
}
