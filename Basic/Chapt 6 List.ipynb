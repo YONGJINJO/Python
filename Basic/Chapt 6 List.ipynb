{
 "cells": [
  {
   "cell_type": "code",
   "execution_count": 9,
   "metadata": {},
   "outputs": [
    {
     "name": "stdout",
     "output_type": "stream",
     "text": [
      "['윤수', '용진', '창선', '형호']\n",
      "['윤수', '용진', '창선']\n",
      "[4, 5]\n",
      "3\n",
      "5\n"
     ]
    }
   ],
   "source": [
    "numbers = [1, 2, 3, 4, 5]\n",
    "name = [\"윤수\", \"용진\", \"창선\", \"형호\", \"기범\"]\n",
    "\n",
    "# List slicing\n",
    "\n",
    "print(name[0:4])\n",
    "\n",
    "print(name[:3])\n",
    "print(numbers[3:])\n",
    "numbers[0] = numbers[0] + numbers[1]\n",
    "print(numbers[0])\n",
    "print(numbers[-1]) # - 기호가 붙으면 뒤에서 부터 셈"
   ]
  },
  {
   "cell_type": "code",
   "execution_count": 14,
   "metadata": {},
   "outputs": [
    {
     "name": "stdout",
     "output_type": "stream",
     "text": [
      "5\n",
      "[1, 2, 3, 4, 5, 6]\n",
      "[1, 2, 3, 5, 6]\n",
      "[1, 2, 3, 0, 5, 6]\n",
      "[0, 1, 2, 3, 5, 6]\n",
      "['a', 'b', 'c', 'd', 'e', 'f', '가']\n"
     ]
    }
   ],
   "source": [
    "# List Function\n",
    "\n",
    "numbers = [1, 2, 3, 4, 5] \n",
    "print(len(numbers))  # List의 길이\n",
    "\n",
    "numbers.append(6)   # 마지막 뒤에 해당 수를 삽입\n",
    "print(numbers)\n",
    "\n",
    "\n",
    "\n",
    "del numbers[3] # 3번째 칸의 수를 지운다\n",
    "print(numbers)\n",
    "\n",
    "numbers.insert(3,0) # 5번째 칸에 0을 넣는다, append와 달리 원하는 위치에 삽입 가능\n",
    "print(numbers)\n",
    "\n",
    "numbers = sorted(numbers)\n",
    "print(numbers)\n",
    "\n",
    "alphabet = [\"a\", \"b\", \"c\", \"d\", \"가\", \"f\", \"e\" ]\n",
    "alphabet = sorted(alphabet)  #\n",
    "print(alphabet)"
   ]
  },
  {
   "cell_type": "code",
   "execution_count": 15,
   "metadata": {},
   "outputs": [
    {
     "name": "stdout",
     "output_type": "stream",
     "text": [
      "화씨 온도 리스트: [40, 15, 32, 64, -4, 11]\n"
     ]
    },
    {
     "ename": "NameError",
     "evalue": "name 'fahrenheit_to_celcius' is not defined",
     "output_type": "error",
     "traceback": [
      "\u001b[1;31m---------------------------------------------------------------------------\u001b[0m",
      "\u001b[1;31mNameError\u001b[0m                                 Traceback (most recent call last)",
      "\u001b[1;32m<ipython-input-15-33385b092523>\u001b[0m in \u001b[0;36m<module>\u001b[1;34m()\u001b[0m\n\u001b[0;32m     13\u001b[0m \u001b[1;33m\u001b[0m\u001b[0m\n\u001b[0;32m     14\u001b[0m \u001b[1;31m# 리스트의 값들을 화씨에서 섭씨로 변환\u001b[0m\u001b[1;33m\u001b[0m\u001b[1;33m\u001b[0m\u001b[0m\n\u001b[1;32m---> 15\u001b[1;33m \u001b[0mfahrenheit_to_celcius\u001b[0m\u001b[1;33m(\u001b[0m\u001b[0msample_temperature_list\u001b[0m\u001b[1;33m)\u001b[0m\u001b[1;33m\u001b[0m\u001b[0m\n\u001b[0m\u001b[0;32m     16\u001b[0m \u001b[1;33m\u001b[0m\u001b[0m\n\u001b[0;32m     17\u001b[0m \u001b[1;31m# 섭씨 온도 출력\u001b[0m\u001b[1;33m\u001b[0m\u001b[1;33m\u001b[0m\u001b[0m\n",
      "\u001b[1;31mNameError\u001b[0m: name 'fahrenheit_to_celcius' is not defined"
     ]
    }
   ],
   "source": [
    "# 화씨 온도에서 섭씨 온도로 바꿔주는 함수\n",
    "def fahrenheit_to_celsius(fahrenheit):\n",
    "    i = 0\n",
    "    while i < len(fahrenheit) : \n",
    "        fahrenheit[i] = (fahrenheit[i] - 32) * 5 / 9\n",
    "        i += 1\n",
    "\n",
    "# 테스트용 온도 리스트\n",
    "sample_temperature_list = [40, 15, 32, 64, -4, 11]\n",
    "\n",
    "# 화씨 온도 출력\n",
    "print(\"화씨 온도 리스트: \" + str(sample_temperature_list))\n",
    "\n",
    "# 리스트의 값들을 화씨에서 섭씨로 변환\n",
    "fahrenheit_to_celcius(sample_temperature_list)\n",
    "\n",
    "# 섭씨 온도 출력\n",
    "print(\"섭씨 온도 리스트: \" + str(sample_temperature_list))"
   ]
  },
  {
   "cell_type": "code",
   "execution_count": 17,
   "metadata": {},
   "outputs": [
    {
     "name": "stdout",
     "output_type": "stream",
     "text": [
      "화씨 온도 리스트: [40, 15, 32, 64, -4, 11]\n"
     ]
    },
    {
     "ename": "TypeError",
     "evalue": "unsupported operand type(s) for -: 'list' and 'int'",
     "output_type": "error",
     "traceback": [
      "\u001b[1;31m---------------------------------------------------------------------------\u001b[0m",
      "\u001b[1;31mTypeError\u001b[0m                                 Traceback (most recent call last)",
      "\u001b[1;32m<ipython-input-17-b09663b770d0>\u001b[0m in \u001b[0;36m<module>\u001b[1;34m()\u001b[0m\n\u001b[0;32m     11\u001b[0m \u001b[1;33m\u001b[0m\u001b[0m\n\u001b[0;32m     12\u001b[0m \u001b[1;31m# 리스트의 값들을 화씨에서 섭씨로 변환\u001b[0m\u001b[1;33m\u001b[0m\u001b[1;33m\u001b[0m\u001b[0m\n\u001b[1;32m---> 13\u001b[1;33m \u001b[0mfahrenheit_to_celsius\u001b[0m\u001b[1;33m(\u001b[0m\u001b[0msample_temperature_list\u001b[0m\u001b[1;33m)\u001b[0m\u001b[1;33m\u001b[0m\u001b[0m\n\u001b[0m\u001b[0;32m     14\u001b[0m \u001b[1;33m\u001b[0m\u001b[0m\n\u001b[0;32m     15\u001b[0m \u001b[1;31m# 섭씨 온도 출력\u001b[0m\u001b[1;33m\u001b[0m\u001b[1;33m\u001b[0m\u001b[0m\n",
      "\u001b[1;32m<ipython-input-17-b09663b770d0>\u001b[0m in \u001b[0;36mfahrenheit_to_celsius\u001b[1;34m(fahrenheit)\u001b[0m\n\u001b[0;32m      1\u001b[0m \u001b[1;31m# 화씨 온도에서 섭씨 온도로 바꿔주는 함수\u001b[0m\u001b[1;33m\u001b[0m\u001b[1;33m\u001b[0m\u001b[0m\n\u001b[0;32m      2\u001b[0m \u001b[1;32mdef\u001b[0m \u001b[0mfahrenheit_to_celsius\u001b[0m\u001b[1;33m(\u001b[0m\u001b[0mfahrenheit\u001b[0m\u001b[1;33m)\u001b[0m\u001b[1;33m:\u001b[0m\u001b[1;33m\u001b[0m\u001b[0m\n\u001b[1;32m----> 3\u001b[1;33m     \u001b[0mfahrenheit\u001b[0m \u001b[1;33m=\u001b[0m \u001b[1;33m(\u001b[0m\u001b[0mfahrenheit\u001b[0m \u001b[1;33m-\u001b[0m \u001b[1;36m32\u001b[0m\u001b[1;33m)\u001b[0m \u001b[1;33m*\u001b[0m \u001b[1;36m5\u001b[0m \u001b[1;33m/\u001b[0m \u001b[1;36m9\u001b[0m\u001b[1;33m\u001b[0m\u001b[0m\n\u001b[0m\u001b[0;32m      4\u001b[0m \u001b[1;33m\u001b[0m\u001b[0m\n\u001b[0;32m      5\u001b[0m \u001b[1;33m\u001b[0m\u001b[0m\n",
      "\u001b[1;31mTypeError\u001b[0m: unsupported operand type(s) for -: 'list' and 'int'"
     ]
    }
   ],
   "source": [
    "# 화씨 온도에서 섭씨 온도로 바꿔주는 함수\n",
    "def fahrenheit_to_celsius(fahrenheit):\n",
    "    fahrenheit = (fahrenheit - 32) * 5 / 9\n",
    "    \n",
    "\n",
    "# 테스트용 온도 리스트\n",
    "sample_temperature_list = [40, 15, 32, 64, -4, 11]\n",
    "\n",
    "# 화씨 온도 출력\n",
    "print(\"화씨 온도 리스트: \" + str(sample_temperature_list))\n",
    "\n",
    "# 리스트의 값들을 화씨에서 섭씨로 변환\n",
    "fahrenheit_to_celsius(sample_temperature_list)\n",
    "\n",
    "# 섭씨 온도 출력\n",
    "print(\"섭씨 온도 리스트: \" + str(sample_temperature_list))"
   ]
  },
  {
   "cell_type": "code",
   "execution_count": 23,
   "metadata": {},
   "outputs": [
    {
     "name": "stdout",
     "output_type": "stream",
     "text": [
      "[1, 2, 3, 4, 5, 6, 7, 8, 9, 10]\n",
      "[2, 4, 6, 8, 10]\n",
      "[20, 2, 4, 6, 8, 10]\n",
      "[2, 4, 6, 8, 10, 20]\n"
     ]
    }
   ],
   "source": [
    "numbers = []\n",
    "\n",
    "# numbers에 자연수 1부터 10까지 추가\n",
    "i = 0\n",
    "j = 1\n",
    "while i < 10 :\n",
    "    numbers.append(j)\n",
    "    i += 1\n",
    "    j += 1\n",
    "print(numbers)\n",
    "\n",
    "# numbers에서 홀수 제거\n",
    "i = 0\n",
    "while i < len(numbers) :       # len(numbers) 대신 i 를 쓰면 list가 delete 되면서 list index가 줄어들게 되고 i=5쯤 가면 오류가 생긴다\n",
    "    if numbers[i] % 2 != 0 :\n",
    "        del numbers[i]\n",
    "    else :\n",
    "        i += 1\n",
    "print(numbers)\n",
    "\n",
    "# numbers의 인덱스 0 자리에 20이라는 값 삽입\n",
    "numbers.insert(0, 20)\n",
    "print(numbers)\n",
    "\n",
    "# numbers를 정렬해서 출력\n",
    "numbers = sorted(numbers)\n",
    "print(numbers)"
   ]
  },
  {
   "cell_type": "code",
   "execution_count": 25,
   "metadata": {},
   "outputs": [
    {
     "name": "stdout",
     "output_type": "stream",
     "text": [
      "True\n",
      "False\n",
      "True\n",
      "False\n"
     ]
    }
   ],
   "source": [
    "primes = [1, 2, 3, 4, 5, 6, 7, 8, 9]\n",
    "print(7 in primes)\n",
    "print(13 in primes)\n",
    "print(15 not in primes)\n",
    "print(1 not in primes)"
   ]
  },
  {
   "cell_type": "code",
   "execution_count": 27,
   "metadata": {},
   "outputs": [
    {
     "name": "stdout",
     "output_type": "stream",
     "text": [
      "[62, 75, 94]\n",
      "62\n"
     ]
    }
   ],
   "source": [
    "# Nested List\n",
    "\n",
    "grades = [[62, 75, 94], [23,67,87], [87, 87, 96]]\n",
    "print(grades[0])\n",
    "print(grades[0][0])\n"
   ]
  },
  {
   "cell_type": "code",
   "execution_count": 36,
   "metadata": {},
   "outputs": [
    {
     "name": "stdout",
     "output_type": "stream",
     "text": [
      "[2, 3, 6, 8]\n",
      "[1, 7, 3, 5]\n",
      "1\n",
      "['딸기', '당근', '수박', '참외', '메론']\n"
     ]
    }
   ],
   "source": [
    "# Sorted Method : 순서 정렬\n",
    "\n",
    "numbers = [8, 2,6,3]\n",
    "numbers.sort()\n",
    "print(numbers)\n",
    "\n",
    "# Reversed method : 순서를 반대로\n",
    "numbers = [5, 3, 7, 1]\n",
    "numbers.reverse()\n",
    "print(numbers)\n",
    "\n",
    "# Index Method : 해당 값을 가지고 있는 index를 return해준다\n",
    "members = [\"창선\", \"형호\", \"현승\", \"호정\"]\n",
    "print(members.index(\"형호\"))\n",
    "\n",
    "# Remove method : 해당 원소를 지움 (del 과 살짝 다름)\n",
    "fruits = [\"딸기\", \"당근\", \"파인애플\", \"수박\", \"참외\", \"메론\"]\n",
    "fruits.remove(\"파인애플\")\n",
    "print(fruits)"
   ]
  },
  {
   "cell_type": "code",
   "execution_count": null,
   "metadata": {
    "scrolled": true
   },
   "outputs": [
    {
     "name": "stdout",
     "output_type": "stream",
     "text": [
      "0과 9 사이의 서로 다른 세 숫자를 랜덤한 순서로 뽑았습니다.\n",
      "세 수를 하나씩 차례대로 입력하세요\n",
      "1번째 수를 입력하세요: 1\n",
      "[1]\n",
      "[1, 5, 4]\n",
      "2번째 수를 입력하세요: 4\n",
      "[1, 4]\n",
      "[1, 5, 4]\n",
      "3번째 수를 입력하세요: 5\n",
      "[1, 4, 5]\n",
      "[1, 5, 4]\n",
      "1\n",
      "1\n",
      "지금\n",
      "1\n",
      "4\n",
      "1\n",
      "5\n",
      "5\n",
      "1\n",
      "5\n",
      "4\n",
      "5\n",
      "5\n",
      "지금1\n",
      "4\n",
      "1\n",
      "4\n",
      "4\n",
      "지금1\n",
      "4\n",
      "5\n",
      "1S 2B\n",
      "1번째 수를 입력하세요: 1\n",
      "[1]\n",
      "[1, 5, 4]\n",
      "2번째 수를 입력하세요: 4\n",
      "[1, 4]\n",
      "[1, 5, 4]\n",
      "3번째 수를 입력하세요: 6\n",
      "[1, 4, 6]\n",
      "[1, 5, 4]\n",
      "1\n",
      "1\n",
      "지금\n",
      "1\n",
      "4\n",
      "1\n",
      "6\n",
      "5\n",
      "1\n",
      "5\n",
      "4\n",
      "5\n",
      "6\n",
      "4\n",
      "1\n",
      "4\n",
      "4\n",
      "지금1\n",
      "4\n",
      "6\n",
      "1S 1B\n",
      "1번째 수를 입력하세요: 1\n",
      "[1]\n",
      "[1, 5, 4]\n",
      "2번째 수를 입력하세요: 5\n",
      "[1, 5]\n",
      "[1, 5, 4]\n",
      "3번째 수를 입력하세요: 4\n",
      "[1, 5, 4]\n",
      "[1, 5, 4]\n",
      "1\n",
      "1\n",
      "지금\n",
      "1\n",
      "5\n",
      "1\n",
      "4\n",
      "5\n",
      "1\n",
      "5\n",
      "5\n",
      "지금\n",
      "5\n",
      "4\n",
      "4\n",
      "1\n",
      "4\n",
      "5\n",
      "4\n",
      "4\n",
      "지금\n",
      "축하합니다. 3번만에 세 숫자의 값과 위치를 모두 맞추셨습니다.\n"
     ]
    }
   ],
   "source": [
    "from random import randint\n",
    "answer = []\n",
    "myanswer = []\n",
    "i = 1\n",
    "while i < 4 :\n",
    "    answer.append(randint(0,9))\n",
    "    i += 1\n",
    "print(\"0과 9 사이의 서로 다른 세 숫자를 랜덤한 순서로 뽑았습니다.\")\n",
    "print(\"세 수를 하나씩 차례대로 입력하세요\")                    \n",
    "\n",
    "j = 1\n",
    "k = 1\n",
    "n = 0\n",
    "s = 0\n",
    "b = 0\n",
    "m = 0\n",
    "while True :\n",
    "    while k < 4 :\n",
    "        myanswer.append(int(input(\"%d번째 수를 입력하세요: \" % (k)))) # input값은 항상 str로 들어가니까 int로 바꿔줘야\n",
    "        k += 1\n",
    "        print(myanswer)\n",
    "        print(answer)\n",
    "    while n < len(answer) :\n",
    "        while m < len(myanswer) :\n",
    "            print(answer[n])\n",
    "            print(myanswer[m])\n",
    "            if answer[n] == myanswer[m] :\n",
    "                if n == m :\n",
    "                    s += 1\n",
    "                    print(\"지금\")\n",
    "                else :\n",
    "                    b += 1\n",
    "                    print(\"지금1\")\n",
    "            m += 1\n",
    "        m = 0\n",
    "        n += 1\n",
    "    if s == 3 :\n",
    "        print(\"축하합니다. %d번만에 세 숫자의 값과 위치를 모두 맞추셨습니다.\" % (j))\n",
    "        break\n",
    "    else :\n",
    "        print(\"%dS %dB\" % (s, b))\n",
    "    j += 1\n",
    "    k = 1\n",
    "    n = 0\n",
    "    s = 0\n",
    "    b = 0\n",
    "    myanswer = []"
   ]
  },
  {
   "cell_type": "code",
   "execution_count": null,
   "metadata": {},
   "outputs": [],
   "source": []
  }
 ],
 "metadata": {
  "kernelspec": {
   "display_name": "Python 3",
   "language": "python",
   "name": "python3"
  },
  "language_info": {
   "codemirror_mode": {
    "name": "ipython",
    "version": 3
   },
   "file_extension": ".py",
   "mimetype": "text/x-python",
   "name": "python",
   "nbconvert_exporter": "python",
   "pygments_lexer": "ipython3",
   "version": "3.6.4"
  }
 },
 "nbformat": 4,
 "nbformat_minor": 2
}
