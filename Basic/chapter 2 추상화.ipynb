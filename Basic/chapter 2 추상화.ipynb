{
 "cells": [
  {
   "cell_type": "code",
   "execution_count": null,
   "metadata": {},
   "outputs": [],
   "source": [
    "print(\"추상화란? : 복잡한 세부사항을 숨기고 중요사항에 집중하게\")\n",
    "print(\"추상화의 구성요소 : 함수, 객체, 변수\")\n",
    "print(\"변수 : 값을 저장\")\n",
    "print(\"함수 : 명령을 저장\")"
   ]
  },
  {
   "cell_type": "code",
   "execution_count": 1,
   "metadata": {},
   "outputs": [
    {
     "name": "stdout",
     "output_type": "stream",
     "text": [
      "3\n",
      "4\n"
     ]
    }
   ],
   "source": [
    "# 변수 (Variable)\n",
    "\n",
    "x = 2 + 1\n",
    "print(x)\n",
    "x = x + 1\n",
    "print(x)\n",
    "\n",
    "# 변수는 어떻게 추상화를 하는가?\n",
    "x = 10.43\n",
    "\n",
    "# 지정연산자 -> = -> 오른쪽에 있는 값을 왼쪽에 지정해줌"
   ]
  },
  {
   "cell_type": "code",
   "execution_count": 2,
   "metadata": {},
   "outputs": [
    {
     "name": "stdout",
     "output_type": "stream",
     "text": [
      "Hello World!\n",
      "Welcome to Codeit!\n"
     ]
    }
   ],
   "source": [
    "# 함수 (Function)\n",
    "\n",
    "def hello() :\n",
    "    print(\"Hello World!\")\n",
    "    print(\"Welcome to Codeit!\")\n",
    "\n",
    "# 들여쓰기를 잘해줘야 합니당\n",
    "hello()"
   ]
  },
  {
   "cell_type": "code",
   "execution_count": 5,
   "metadata": {},
   "outputs": [
    {
     "name": "stdout",
     "output_type": "stream",
     "text": [
      "Hello 용진\n",
      "3\n"
     ]
    }
   ],
   "source": [
    "# Parameter : 함수 괄호 안에 들어가는 변수\n",
    "\n",
    "def hello(name) :\n",
    "    print(\"Hello %s\" % (name))\n",
    "    \n",
    "def summation(a, b) :\n",
    "    print(a+b)\n",
    "    \n",
    "hello(\"용진\")\n",
    "\n",
    "summation(1, 2)"
   ]
  },
  {
   "cell_type": "code",
   "execution_count": 6,
   "metadata": {},
   "outputs": [
    {
     "name": "stdout",
     "output_type": "stream",
     "text": [
      "내이름은 용진\n",
      "나이는 26\n",
      "국적은 한국\n",
      "내이름은 jason\n",
      "나이는 25\n",
      "국적은 미국\n"
     ]
    }
   ],
   "source": [
    "#  Optional Parameter  \n",
    "\n",
    "def myself(name ,age, nationality = \"한국\") :\n",
    "    print(\"내이름은 %s\" % (name))\n",
    "    print(\"나이는 %d\" % (age))\n",
    "    print(\"국적은 %s\" % (nationality))\n",
    "    \n",
    "myself(\"용진\", 26)\n",
    "myself(\"jason\", 25, \"미국\")"
   ]
  },
  {
   "cell_type": "code",
   "execution_count": null,
   "metadata": {},
   "outputs": [],
   "source": []
  }
 ],
 "metadata": {
  "kernelspec": {
   "display_name": "Python 3",
   "language": "python",
   "name": "python3"
  },
  "language_info": {
   "codemirror_mode": {
    "name": "ipython",
    "version": 3
   },
   "file_extension": ".py",
   "mimetype": "text/x-python",
   "name": "python",
   "nbconvert_exporter": "python",
   "pygments_lexer": "ipython3",
   "version": "3.6.4"
  }
 },
 "nbformat": 4,
 "nbformat_minor": 2
}
