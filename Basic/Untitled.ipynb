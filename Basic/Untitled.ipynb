{
 "cells": [
  {
   "cell_type": "code",
   "execution_count": null,
   "metadata": {},
   "outputs": [],
   "source": [
    "from random import randint\n",
    "i = 4\n",
    "j = 1\n",
    "rand_num = randint(1,20)\n",
    "while i >= 1 :\n",
    "    x = int(input(\"기회가 %d번 남았습니다. 1-20 사이의 숫자를 맞춰보세요 : \" %(i)))\n",
    "    if x == rand_num :\n",
    "        print(\"축하합니다. %d번만에 숫자를 맞추셨습니다.\" % (j))\n",
    "        break\n",
    "    elif x > rand_num :\n",
    "        print(\"Down\")\n",
    "    elif x < rand_num :\n",
    "        print(\"Up\")\n",
    "    j += 1\n",
    "    i -= 1\n",
    "\n",
    "print(\"아쉽습니다. 정답은 %d였습니다.\" % (rand_num))"
   ]
  },
  {
   "cell_type": "code",
   "execution_count": null,
   "metadata": {},
   "outputs": [],
   "source": []
  }
 ],
 "metadata": {
  "kernelspec": {
   "display_name": "Python 3",
   "language": "python",
   "name": "python3"
  }
 },
 "nbformat": 4,
 "nbformat_minor": 2
}
