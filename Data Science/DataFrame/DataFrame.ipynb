{
 "cells": [
  {
   "cell_type": "code",
   "execution_count": 1,
   "metadata": {},
   "outputs": [],
   "source": [
    "import pandas as pd"
   ]
  },
  {
   "cell_type": "code",
   "execution_count": 6,
   "metadata": {},
   "outputs": [],
   "source": [
    "iphone_df = pd.read_csv('C:/Users/choyj/Desktop/Python/Data_Science/DataFrame/iphone.csv', index_col = 0)"
   ]
  },
  {
   "cell_type": "code",
   "execution_count": null,
   "metadata": {},
   "outputs": [],
   "source": [
    "iphone_df"
   ]
  },
  {
   "cell_type": "code",
   "execution_count": null,
   "metadata": {},
   "outputs": [],
   "source": [
    "iphone_df.loc['iPhone 8', '메모리']"
   ]
  },
  {
   "cell_type": "code",
   "execution_count": null,
   "metadata": {},
   "outputs": [],
   "source": [
    "iphone_df.loc['iPhone X', :]"
   ]
  },
  {
   "cell_type": "code",
   "execution_count": null,
   "metadata": {},
   "outputs": [],
   "source": [
    "iphone_df.loc['iPhone X']"
   ]
  },
  {
   "cell_type": "code",
   "execution_count": null,
   "metadata": {},
   "outputs": [],
   "source": [
    "type(iphone_df.loc['iPhone X'])"
   ]
  },
  {
   "cell_type": "code",
   "execution_count": null,
   "metadata": {},
   "outputs": [],
   "source": [
    "iphone_df.loc[:, '출시일']"
   ]
  },
  {
   "cell_type": "code",
   "execution_count": null,
   "metadata": {},
   "outputs": [],
   "source": [
    "iphone_df['출시일']"
   ]
  },
  {
   "cell_type": "code",
   "execution_count": null,
   "metadata": {},
   "outputs": [],
   "source": [
    "iphone_df.loc['iPhone X', :]"
   ]
  },
  {
   "cell_type": "code",
   "execution_count": null,
   "metadata": {},
   "outputs": [],
   "source": [
    "df = pd.read_csv('C:/Users/choyj/Desktop/Python/Data_Science/DataFrame/broadcast.csv', index_col = 0)\n",
    "df"
   ]
  },
  {
   "cell_type": "code",
   "execution_count": null,
   "metadata": {},
   "outputs": [],
   "source": [
    "df.loc[2016, 'KBS']"
   ]
  },
  {
   "cell_type": "code",
   "execution_count": null,
   "metadata": {},
   "outputs": [],
   "source": [
    "df['JTBC']"
   ]
  },
  {
   "cell_type": "code",
   "execution_count": null,
   "metadata": {},
   "outputs": [],
   "source": [
    "df[['SBS','JTBC']]"
   ]
  },
  {
   "cell_type": "code",
   "execution_count": null,
   "metadata": {},
   "outputs": [],
   "source": [
    "samsung_df = pd.read_csv('C:/Users/choyj/Desktop/Python/Data_Science/DataFrame/samsong.csv')\n",
    "hyundai_df = pd.read_csv('C:/Users/choyj/Desktop/Python/Data_Science/DataFrame/hyundee.csv')"
   ]
  },
  {
   "cell_type": "code",
   "execution_count": null,
   "metadata": {},
   "outputs": [],
   "source": [
    "samsung_df"
   ]
  },
  {
   "cell_type": "code",
   "execution_count": null,
   "metadata": {},
   "outputs": [],
   "source": [
    "hyundai_df"
   ]
  },
  {
   "cell_type": "code",
   "execution_count": null,
   "metadata": {},
   "outputs": [],
   "source": [
    "df1 = samsung_df[['요일', '문화생활비']]\n",
    "df1"
   ]
  },
  {
   "cell_type": "code",
   "execution_count": null,
   "metadata": {},
   "outputs": [],
   "source": [
    "df2 = hyundai_df[['요일', '문화생활비']]\n",
    "df2"
   ]
  },
  {
   "cell_type": "code",
   "execution_count": null,
   "metadata": {},
   "outputs": [],
   "source": [
    "day = samsung_df['요일']\n",
    "day"
   ]
  },
  {
   "cell_type": "code",
   "execution_count": null,
   "metadata": {},
   "outputs": [],
   "source": [
    "day = pd.DataFrame(samsung_df['요일'])\n",
    "day"
   ]
  },
  {
   "cell_type": "code",
   "execution_count": null,
   "metadata": {},
   "outputs": [],
   "source": [
    "samsong = pd.DataFrame(samsung_df['문화생활비'])\n",
    "samsong"
   ]
  },
  {
   "cell_type": "code",
   "execution_count": null,
   "metadata": {},
   "outputs": [],
   "source": [
    "day = samsung_df['요일']\n",
    "samsong_pay = samsung_df['문화생활비']\n",
    "hyundai_pay = hyundai_df['문화생활비']\n",
    "\n",
    "dict1 = {\n",
    "    'day' : day,\n",
    "    'samsong' : samsong_pay,\n",
    "    'hyundee' : hyundai_pay\n",
    "}\n",
    "\n",
    "df = pd.DataFrame(dict1)\n",
    "df"
   ]
  },
  {
   "cell_type": "code",
   "execution_count": null,
   "metadata": {},
   "outputs": [],
   "source": [
    "iphone_df.loc[['iPhone X', 'iPhone 8']]"
   ]
  },
  {
   "cell_type": "code",
   "execution_count": null,
   "metadata": {},
   "outputs": [],
   "source": [
    "type(iphone_df.loc[['iPhone X', 'iPhone 8']])"
   ]
  },
  {
   "cell_type": "code",
   "execution_count": null,
   "metadata": {},
   "outputs": [],
   "source": [
    "iphone_df[['출시일', '메모리']]"
   ]
  },
  {
   "cell_type": "code",
   "execution_count": null,
   "metadata": {},
   "outputs": [],
   "source": [
    "iphone_df.loc['iPhone 8':'iPhone XS']"
   ]
  },
  {
   "cell_type": "code",
   "execution_count": null,
   "metadata": {},
   "outputs": [],
   "source": [
    "iphone_df.loc['iPhone 7':'iPhone X', '메모리':'Face ID']"
   ]
  },
  {
   "cell_type": "code",
   "execution_count": null,
   "metadata": {},
   "outputs": [],
   "source": [
    "iphone_df.loc[[True, False, True, True, False, True, False]]"
   ]
  },
  {
   "cell_type": "code",
   "execution_count": null,
   "metadata": {},
   "outputs": [],
   "source": []
  },
  {
   "cell_type": "code",
   "execution_count": null,
   "metadata": {},
   "outputs": [],
   "source": [
    "iphone_df['디스플레이'] > 5"
   ]
  },
  {
   "cell_type": "code",
   "execution_count": null,
   "metadata": {},
   "outputs": [],
   "source": [
    "iphone_df.loc[iphone_df['디스플레이'] > 5]"
   ]
  },
  {
   "cell_type": "code",
   "execution_count": null,
   "metadata": {},
   "outputs": [],
   "source": [
    "iphone_df.loc[iphone_df['Face ID'] == 'Yes']"
   ]
  },
  {
   "cell_type": "code",
   "execution_count": null,
   "metadata": {},
   "outputs": [],
   "source": [
    "condition = (iphone_df['디스플레이'] > 5) | (iphone_df['Face ID'] == 'Yes')\n",
    "iphone_df[condition]"
   ]
  },
  {
   "cell_type": "code",
   "execution_count": null,
   "metadata": {},
   "outputs": [],
   "source": [
    "condition = df['SBS'] < df['TV CHOSUN']\n",
    "df.loc[condition, ['SBS', 'TV CHOSUN']]"
   ]
  },
  {
   "cell_type": "code",
   "execution_count": null,
   "metadata": {},
   "outputs": [],
   "source": [
    "iphone_df.iloc[2, 4]"
   ]
  },
  {
   "cell_type": "code",
   "execution_count": null,
   "metadata": {},
   "outputs": [],
   "source": [
    "iphone_df.iloc[[1, 3], [1,4]]"
   ]
  },
  {
   "cell_type": "code",
   "execution_count": null,
   "metadata": {},
   "outputs": [],
   "source": [
    "iphone_df.iloc[3:, 1:4]"
   ]
  },
  {
   "cell_type": "code",
   "execution_count": null,
   "metadata": {},
   "outputs": [],
   "source": [
    "iphone_df.loc['iPhone 8', '메모리']"
   ]
  },
  {
   "cell_type": "code",
   "execution_count": null,
   "metadata": {},
   "outputs": [],
   "source": [
    "iphone_df.loc['iPhone 8', '메모리'] = '2.5GB'"
   ]
  },
  {
   "cell_type": "code",
   "execution_count": null,
   "metadata": {},
   "outputs": [],
   "source": [
    "iphone_df"
   ]
  },
  {
   "cell_type": "code",
   "execution_count": null,
   "metadata": {},
   "outputs": [],
   "source": [
    "iphone_df.loc['iPhone 8', '출시 버전'] = 'iOS 10.3'"
   ]
  },
  {
   "cell_type": "code",
   "execution_count": null,
   "metadata": {},
   "outputs": [],
   "source": [
    "iphone_df"
   ]
  },
  {
   "cell_type": "code",
   "execution_count": null,
   "metadata": {},
   "outputs": [],
   "source": [
    "iphone_df.loc['iPhone 8']"
   ]
  },
  {
   "cell_type": "code",
   "execution_count": null,
   "metadata": {},
   "outputs": [],
   "source": [
    "iphone_df.loc['iPhone 8'] = ['2016-09-22', '4.7', '2GB', 'iOS 11.0', 'No']\n",
    "iphone_df"
   ]
  },
  {
   "cell_type": "code",
   "execution_count": null,
   "metadata": {},
   "outputs": [],
   "source": [
    "iphone_df['디스플레이'] = ['4.7 in', '5.5 in', '4.7 in', '5.5 in', '5.8 in', '5.8 in', '6.5 in']\n",
    "iphone_df"
   ]
  },
  {
   "cell_type": "code",
   "execution_count": null,
   "metadata": {},
   "outputs": [],
   "source": [
    "iphone_df['Face ID'] = ['NO', 'NO', 'NO', 'NO', 'NO', 'NO', 'NO']\n",
    "iphone_df"
   ]
  },
  {
   "cell_type": "code",
   "execution_count": null,
   "metadata": {},
   "outputs": [],
   "source": [
    "iphone_df['Face ID'] = 'Yes'\n",
    "iphone_df"
   ]
  },
  {
   "cell_type": "code",
   "execution_count": null,
   "metadata": {},
   "outputs": [],
   "source": [
    "iphone_df[['디스플레이', 'Face ID']] = 'x'\n",
    "iphone_df"
   ]
  },
  {
   "cell_type": "code",
   "execution_count": null,
   "metadata": {},
   "outputs": [],
   "source": [
    "iphone_df.loc[['iPhone 7', 'iPhone X']] = 'o'\n",
    "iphone_df"
   ]
  },
  {
   "cell_type": "code",
   "execution_count": null,
   "metadata": {},
   "outputs": [],
   "source": [
    "iphone_df.loc['iPhone 7':'iPhone X'] = 'O'\n",
    "iphone_df"
   ]
  },
  {
   "cell_type": "code",
   "execution_count": null,
   "metadata": {},
   "outputs": [],
   "source": [
    "iphone_df['디스플레이'] > 5"
   ]
  },
  {
   "cell_type": "code",
   "execution_count": null,
   "metadata": {},
   "outputs": [],
   "source": [
    "iphone_df.loc[iphone_df['디스플레이'] > 5] = 'p'\n",
    "iphone_df"
   ]
  },
  {
   "cell_type": "code",
   "execution_count": null,
   "metadata": {},
   "outputs": [],
   "source": [
    "iphone_df.iloc[[1,4], [1, 3]] = 'v'\n",
    "iphone_df"
   ]
  },
  {
   "cell_type": "code",
   "execution_count": null,
   "metadata": {},
   "outputs": [],
   "source": [
    "iphone_df.loc['iPhone XR'] = ['2018-10-26', 6.1, '3GB', 'iOS 12.0.1', 'Yes']\n",
    "iphone_df"
   ]
  },
  {
   "cell_type": "code",
   "execution_count": null,
   "metadata": {},
   "outputs": [],
   "source": [
    "iphone_df['제조사'] = 'Apple'\n",
    "iphone_df"
   ]
  },
  {
   "cell_type": "code",
   "execution_count": null,
   "metadata": {},
   "outputs": [],
   "source": [
    "iphone_df.drop('iPhone XR', axis = 'index', inplace = False)"
   ]
  },
  {
   "cell_type": "code",
   "execution_count": null,
   "metadata": {},
   "outputs": [],
   "source": [
    "iphone_df"
   ]
  },
  {
   "cell_type": "code",
   "execution_count": null,
   "metadata": {},
   "outputs": [],
   "source": [
    "iphone_df.drop('iPhone XR', axis = 'index', inplace = True)"
   ]
  },
  {
   "cell_type": "code",
   "execution_count": null,
   "metadata": {},
   "outputs": [],
   "source": [
    "iphone_df"
   ]
  },
  {
   "cell_type": "code",
   "execution_count": null,
   "metadata": {},
   "outputs": [],
   "source": [
    "iphone_df.drop('제조사', axis = 'columns', inplace = True)\n",
    "iphone_df"
   ]
  },
  {
   "cell_type": "code",
   "execution_count": null,
   "metadata": {},
   "outputs": [],
   "source": [
    "iphone_df.drop(['iPhone 7', 'iPhone 8', 'iPhone X'], axis = 'index', inplace = True)\n",
    "iphone_df"
   ]
  },
  {
   "cell_type": "code",
   "execution_count": null,
   "metadata": {},
   "outputs": [],
   "source": [
    "df = pd.read_csv('C:/Users/choyj/Desktop/Python/Data_Science/DataFrame/body_imperial1.csv', index_col = 0)\n",
    "df"
   ]
  },
  {
   "cell_type": "code",
   "execution_count": null,
   "metadata": {},
   "outputs": [],
   "source": [
    "df.loc[1, 'Weight (Pound)'] = 200\n",
    "df.drop(21, axis = 'index', inplace = True)\n",
    "df.loc[20] = [70, 200]\n",
    "df"
   ]
  },
  {
   "cell_type": "code",
   "execution_count": null,
   "metadata": {},
   "outputs": [],
   "source": [
    "df = pd.read_csv('C:/Users/choyj/Desktop/Python/Data_Science/DataFrame/body_imperial2.csv', index_col = 0)\n",
    "df['비만도'] = '정상'\n",
    "df.loc[:11, 'Gender'] = 'Male'\n",
    "df.loc[11:, 'Gender'] = 'Female'\n",
    "df"
   ]
  },
  {
   "cell_type": "code",
   "execution_count": null,
   "metadata": {},
   "outputs": [],
   "source": [
    "liverpool_df = pd.read_csv('C:/Users/choyj/Desktop/Python/Data_Science/DataFrame/liverpool.csv', index_col = 0)\n",
    "liverpool_df"
   ]
  },
  {
   "cell_type": "code",
   "execution_count": null,
   "metadata": {},
   "outputs": [],
   "source": [
    "liverpool_df.rename(columns={'position' : 'Position'})"
   ]
  },
  {
   "cell_type": "code",
   "execution_count": null,
   "metadata": {},
   "outputs": [],
   "source": [
    "liverpool_df.rename(columns={'position' : 'Position'}, inplace = True)"
   ]
  },
  {
   "cell_type": "code",
   "execution_count": null,
   "metadata": {},
   "outputs": [],
   "source": [
    "liverpool_df"
   ]
  },
  {
   "cell_type": "code",
   "execution_count": null,
   "metadata": {},
   "outputs": [],
   "source": [
    "liverpool_df.rename(columns={'born' : 'Born', 'number' : 'Number', 'nationality' : 'Nationality'}, inplace = True)\n",
    "liverpool_df"
   ]
  },
  {
   "cell_type": "code",
   "execution_count": null,
   "metadata": {},
   "outputs": [],
   "source": [
    "liverpool_df.index.name = 'Player name'\n",
    "liverpool_df"
   ]
  },
  {
   "cell_type": "code",
   "execution_count": null,
   "metadata": {},
   "outputs": [],
   "source": [
    "liverpool_df.set_index('Number')"
   ]
  },
  {
   "cell_type": "code",
   "execution_count": null,
   "metadata": {},
   "outputs": [],
   "source": [
    "liverpool_df.index"
   ]
  },
  {
   "cell_type": "code",
   "execution_count": null,
   "metadata": {},
   "outputs": [],
   "source": [
    "liverpool_df['Player_name'] = liverpool_df.index\n",
    "liverpool_df"
   ]
  },
  {
   "cell_type": "code",
   "execution_count": null,
   "metadata": {},
   "outputs": [],
   "source": [
    "liverpool_df.set_index('Number')"
   ]
  },
  {
   "cell_type": "code",
   "execution_count": null,
   "metadata": {},
   "outputs": [],
   "source": [
    "df = pd.read_csv('C:/Users/choyj/Desktop/Python/Data_Science/DataFrame/toeic.csv')\n",
    "df['합격여부'] = (df['LC'] + df['RC'] > 600) & (df['LC'] > 250) & (df['RC'] > 250)\n",
    "df\n"
   ]
  },
  {
   "cell_type": "code",
   "execution_count": null,
   "metadata": {},
   "outputs": [],
   "source": [
    "df = pd.read_csv('C:/Users/choyj/Desktop/Python/Data_Science/DataFrame/Puzzle_before.csv')\n",
    "df['A'] = df['A']  * 2\n",
    "df"
   ]
  },
  {
   "cell_type": "code",
   "execution_count": null,
   "metadata": {},
   "outputs": [],
   "source": [
    "df[df.loc[:,'B':'E'] < 80] = 0\n",
    "df[df.loc[:,'B':'E'] >= 80] = 1"
   ]
  },
  {
   "cell_type": "code",
   "execution_count": null,
   "metadata": {},
   "outputs": [],
   "source": [
    "df"
   ]
  },
  {
   "cell_type": "code",
   "execution_count": null,
   "metadata": {},
   "outputs": [],
   "source": [
    "df[df.loc[:,'B':'F'] < 80]"
   ]
  },
  {
   "cell_type": "code",
   "execution_count": 8,
   "metadata": {},
   "outputs": [
    {
     "data": {
      "text/html": [
       "<div>\n",
       "<style scoped>\n",
       "    .dataframe tbody tr th:only-of-type {\n",
       "        vertical-align: middle;\n",
       "    }\n",
       "\n",
       "    .dataframe tbody tr th {\n",
       "        vertical-align: top;\n",
       "    }\n",
       "\n",
       "    .dataframe thead th {\n",
       "        text-align: right;\n",
       "    }\n",
       "</style>\n",
       "<table border=\"1\" class=\"dataframe\">\n",
       "  <thead>\n",
       "    <tr style=\"text-align: right;\">\n",
       "      <th></th>\n",
       "      <th>brand</th>\n",
       "      <th>model</th>\n",
       "      <th>ram</th>\n",
       "      <th>hd_type</th>\n",
       "      <th>hd_size</th>\n",
       "      <th>screen_size</th>\n",
       "      <th>price</th>\n",
       "      <th>processor_brand</th>\n",
       "      <th>processor_model</th>\n",
       "      <th>clock_speed</th>\n",
       "      <th>graphic_card_brand</th>\n",
       "      <th>graphic_card_size</th>\n",
       "      <th>os</th>\n",
       "      <th>weight</th>\n",
       "      <th>comments</th>\n",
       "    </tr>\n",
       "  </thead>\n",
       "  <tbody>\n",
       "    <tr>\n",
       "      <td>0</td>\n",
       "      <td>Dell</td>\n",
       "      <td>Inspiron 15-3567</td>\n",
       "      <td>4</td>\n",
       "      <td>hdd</td>\n",
       "      <td>1024</td>\n",
       "      <td>15.6</td>\n",
       "      <td>40000</td>\n",
       "      <td>intel</td>\n",
       "      <td>i5</td>\n",
       "      <td>2.5</td>\n",
       "      <td>intel</td>\n",
       "      <td>NaN</td>\n",
       "      <td>linux</td>\n",
       "      <td>2.50</td>\n",
       "      <td>NaN</td>\n",
       "    </tr>\n",
       "    <tr>\n",
       "      <td>1</td>\n",
       "      <td>Apple</td>\n",
       "      <td>MacBook Air</td>\n",
       "      <td>8</td>\n",
       "      <td>ssd</td>\n",
       "      <td>128</td>\n",
       "      <td>13.3</td>\n",
       "      <td>55499</td>\n",
       "      <td>intel</td>\n",
       "      <td>i5</td>\n",
       "      <td>1.8</td>\n",
       "      <td>intel</td>\n",
       "      <td>2.0</td>\n",
       "      <td>mac</td>\n",
       "      <td>1.35</td>\n",
       "      <td>NaN</td>\n",
       "    </tr>\n",
       "    <tr>\n",
       "      <td>2</td>\n",
       "      <td>Apple</td>\n",
       "      <td>MacBook Air</td>\n",
       "      <td>8</td>\n",
       "      <td>ssd</td>\n",
       "      <td>256</td>\n",
       "      <td>13.3</td>\n",
       "      <td>71500</td>\n",
       "      <td>intel</td>\n",
       "      <td>i5</td>\n",
       "      <td>1.8</td>\n",
       "      <td>intel</td>\n",
       "      <td>2.0</td>\n",
       "      <td>mac</td>\n",
       "      <td>1.35</td>\n",
       "      <td>NaN</td>\n",
       "    </tr>\n",
       "    <tr>\n",
       "      <td>3</td>\n",
       "      <td>Apple</td>\n",
       "      <td>MacBook Pro</td>\n",
       "      <td>8</td>\n",
       "      <td>ssd</td>\n",
       "      <td>128</td>\n",
       "      <td>13.3</td>\n",
       "      <td>96890</td>\n",
       "      <td>intel</td>\n",
       "      <td>i5</td>\n",
       "      <td>2.3</td>\n",
       "      <td>intel</td>\n",
       "      <td>2.0</td>\n",
       "      <td>mac</td>\n",
       "      <td>3.02</td>\n",
       "      <td>NaN</td>\n",
       "    </tr>\n",
       "    <tr>\n",
       "      <td>4</td>\n",
       "      <td>Apple</td>\n",
       "      <td>MacBook Pro</td>\n",
       "      <td>8</td>\n",
       "      <td>ssd</td>\n",
       "      <td>256</td>\n",
       "      <td>13.3</td>\n",
       "      <td>112666</td>\n",
       "      <td>intel</td>\n",
       "      <td>i5</td>\n",
       "      <td>2.3</td>\n",
       "      <td>intel</td>\n",
       "      <td>2.0</td>\n",
       "      <td>mac</td>\n",
       "      <td>3.02</td>\n",
       "      <td>NaN</td>\n",
       "    </tr>\n",
       "    <tr>\n",
       "      <td>...</td>\n",
       "      <td>...</td>\n",
       "      <td>...</td>\n",
       "      <td>...</td>\n",
       "      <td>...</td>\n",
       "      <td>...</td>\n",
       "      <td>...</td>\n",
       "      <td>...</td>\n",
       "      <td>...</td>\n",
       "      <td>...</td>\n",
       "      <td>...</td>\n",
       "      <td>...</td>\n",
       "      <td>...</td>\n",
       "      <td>...</td>\n",
       "      <td>...</td>\n",
       "      <td>...</td>\n",
       "    </tr>\n",
       "    <tr>\n",
       "      <td>162</td>\n",
       "      <td>Asus</td>\n",
       "      <td>A555LF</td>\n",
       "      <td>8</td>\n",
       "      <td>hdd</td>\n",
       "      <td>1024</td>\n",
       "      <td>15.6</td>\n",
       "      <td>39961</td>\n",
       "      <td>intel</td>\n",
       "      <td>i3 4th gen</td>\n",
       "      <td>1.7</td>\n",
       "      <td>nvidia</td>\n",
       "      <td>2.0</td>\n",
       "      <td>windows</td>\n",
       "      <td>2.30</td>\n",
       "      <td>NaN</td>\n",
       "    </tr>\n",
       "    <tr>\n",
       "      <td>163</td>\n",
       "      <td>Asus</td>\n",
       "      <td>X555LA-XX172D</td>\n",
       "      <td>4</td>\n",
       "      <td>hdd</td>\n",
       "      <td>500</td>\n",
       "      <td>15.6</td>\n",
       "      <td>28489</td>\n",
       "      <td>intel</td>\n",
       "      <td>i3 4th gen</td>\n",
       "      <td>1.9</td>\n",
       "      <td>intel</td>\n",
       "      <td>NaN</td>\n",
       "      <td>linux</td>\n",
       "      <td>2.30</td>\n",
       "      <td>NaN</td>\n",
       "    </tr>\n",
       "    <tr>\n",
       "      <td>164</td>\n",
       "      <td>Asus</td>\n",
       "      <td>X554LD</td>\n",
       "      <td>2</td>\n",
       "      <td>hdd</td>\n",
       "      <td>500</td>\n",
       "      <td>15.6</td>\n",
       "      <td>29199</td>\n",
       "      <td>intel</td>\n",
       "      <td>i3 4th gen</td>\n",
       "      <td>1.9</td>\n",
       "      <td>intel</td>\n",
       "      <td>1.0</td>\n",
       "      <td>linux</td>\n",
       "      <td>2.30</td>\n",
       "      <td>NaN</td>\n",
       "    </tr>\n",
       "    <tr>\n",
       "      <td>165</td>\n",
       "      <td>Asus</td>\n",
       "      <td>X550LAV-XX771D</td>\n",
       "      <td>2</td>\n",
       "      <td>hdd</td>\n",
       "      <td>500</td>\n",
       "      <td>15.6</td>\n",
       "      <td>29990</td>\n",
       "      <td>intel</td>\n",
       "      <td>i3 4th gen</td>\n",
       "      <td>1.7</td>\n",
       "      <td>intel</td>\n",
       "      <td>NaN</td>\n",
       "      <td>linux</td>\n",
       "      <td>2.50</td>\n",
       "      <td>NaN</td>\n",
       "    </tr>\n",
       "    <tr>\n",
       "      <td>166</td>\n",
       "      <td>Asus</td>\n",
       "      <td>X540LA-XX538T</td>\n",
       "      <td>4</td>\n",
       "      <td>hdd</td>\n",
       "      <td>1024</td>\n",
       "      <td>15.6</td>\n",
       "      <td>30899</td>\n",
       "      <td>intel</td>\n",
       "      <td>i3 5th gen</td>\n",
       "      <td>2.0</td>\n",
       "      <td>intel</td>\n",
       "      <td>NaN</td>\n",
       "      <td>windows</td>\n",
       "      <td>2.30</td>\n",
       "      <td>NaN</td>\n",
       "    </tr>\n",
       "  </tbody>\n",
       "</table>\n",
       "<p>167 rows × 15 columns</p>\n",
       "</div>"
      ],
      "text/plain": [
       "     brand             model  ram hd_type  hd_size  screen_size   price  \\\n",
       "0     Dell  Inspiron 15-3567    4     hdd     1024         15.6   40000   \n",
       "1    Apple       MacBook Air    8     ssd      128         13.3   55499   \n",
       "2    Apple       MacBook Air    8     ssd      256         13.3   71500   \n",
       "3    Apple       MacBook Pro    8     ssd      128         13.3   96890   \n",
       "4    Apple       MacBook Pro    8     ssd      256         13.3  112666   \n",
       "..     ...               ...  ...     ...      ...          ...     ...   \n",
       "162   Asus            A555LF    8     hdd     1024         15.6   39961   \n",
       "163   Asus     X555LA-XX172D    4     hdd      500         15.6   28489   \n",
       "164   Asus            X554LD    2     hdd      500         15.6   29199   \n",
       "165   Asus    X550LAV-XX771D    2     hdd      500         15.6   29990   \n",
       "166   Asus     X540LA-XX538T    4     hdd     1024         15.6   30899   \n",
       "\n",
       "    processor_brand processor_model  clock_speed graphic_card_brand  \\\n",
       "0             intel              i5          2.5              intel   \n",
       "1             intel              i5          1.8              intel   \n",
       "2             intel              i5          1.8              intel   \n",
       "3             intel              i5          2.3              intel   \n",
       "4             intel              i5          2.3              intel   \n",
       "..              ...             ...          ...                ...   \n",
       "162           intel      i3 4th gen          1.7             nvidia   \n",
       "163           intel      i3 4th gen          1.9              intel   \n",
       "164           intel      i3 4th gen          1.9              intel   \n",
       "165           intel      i3 4th gen          1.7              intel   \n",
       "166           intel      i3 5th gen          2.0              intel   \n",
       "\n",
       "     graphic_card_size       os  weight comments  \n",
       "0                  NaN    linux    2.50      NaN  \n",
       "1                  2.0      mac    1.35      NaN  \n",
       "2                  2.0      mac    1.35      NaN  \n",
       "3                  2.0      mac    3.02      NaN  \n",
       "4                  2.0      mac    3.02      NaN  \n",
       "..                 ...      ...     ...      ...  \n",
       "162                2.0  windows    2.30      NaN  \n",
       "163                NaN    linux    2.30      NaN  \n",
       "164                1.0    linux    2.30      NaN  \n",
       "165                NaN    linux    2.50      NaN  \n",
       "166                NaN  windows    2.30      NaN  \n",
       "\n",
       "[167 rows x 15 columns]"
      ]
     },
     "execution_count": 8,
     "metadata": {},
     "output_type": "execute_result"
    }
   ],
   "source": [
    "laptops_df = pd.read_csv('C:/Users/choyj/Desktop/Python/Data_Science/DataFrame/laptops.csv')\n",
    "laptops_df"
   ]
  },
  {
   "cell_type": "code",
   "execution_count": null,
   "metadata": {},
   "outputs": [],
   "source": [
    "laptops_df.head(3)"
   ]
  },
  {
   "cell_type": "code",
   "execution_count": 9,
   "metadata": {},
   "outputs": [
    {
     "data": {
      "text/plain": [
       "(167, 15)"
      ]
     },
     "execution_count": 9,
     "metadata": {},
     "output_type": "execute_result"
    }
   ],
   "source": [
    "laptops_df.shape"
   ]
  },
  {
   "cell_type": "code",
   "execution_count": 10,
   "metadata": {},
   "outputs": [
    {
     "data": {
      "text/plain": [
       "Index(['brand', 'model', 'ram', 'hd_type', 'hd_size', 'screen_size', 'price',\n",
       "       'processor_brand', 'processor_model', 'clock_speed',\n",
       "       'graphic_card_brand', 'graphic_card_size', 'os', 'weight', 'comments'],\n",
       "      dtype='object')"
      ]
     },
     "execution_count": 10,
     "metadata": {},
     "output_type": "execute_result"
    }
   ],
   "source": [
    "laptops_df.columns"
   ]
  },
  {
   "cell_type": "code",
   "execution_count": 11,
   "metadata": {},
   "outputs": [
    {
     "name": "stdout",
     "output_type": "stream",
     "text": [
      "<class 'pandas.core.frame.DataFrame'>\n",
      "RangeIndex: 167 entries, 0 to 166\n",
      "Data columns (total 15 columns):\n",
      "brand                 167 non-null object\n",
      "model                 167 non-null object\n",
      "ram                   167 non-null int64\n",
      "hd_type               167 non-null object\n",
      "hd_size               167 non-null int64\n",
      "screen_size           167 non-null float64\n",
      "price                 167 non-null int64\n",
      "processor_brand       167 non-null object\n",
      "processor_model       167 non-null object\n",
      "clock_speed           166 non-null float64\n",
      "graphic_card_brand    163 non-null object\n",
      "graphic_card_size     81 non-null float64\n",
      "os                    167 non-null object\n",
      "weight                160 non-null float64\n",
      "comments              55 non-null object\n",
      "dtypes: float64(4), int64(3), object(8)\n",
      "memory usage: 19.7+ KB\n"
     ]
    }
   ],
   "source": [
    "laptops_df.info()"
   ]
  },
  {
   "cell_type": "code",
   "execution_count": 12,
   "metadata": {},
   "outputs": [
    {
     "data": {
      "text/html": [
       "<div>\n",
       "<style scoped>\n",
       "    .dataframe tbody tr th:only-of-type {\n",
       "        vertical-align: middle;\n",
       "    }\n",
       "\n",
       "    .dataframe tbody tr th {\n",
       "        vertical-align: top;\n",
       "    }\n",
       "\n",
       "    .dataframe thead th {\n",
       "        text-align: right;\n",
       "    }\n",
       "</style>\n",
       "<table border=\"1\" class=\"dataframe\">\n",
       "  <thead>\n",
       "    <tr style=\"text-align: right;\">\n",
       "      <th></th>\n",
       "      <th>ram</th>\n",
       "      <th>hd_size</th>\n",
       "      <th>screen_size</th>\n",
       "      <th>price</th>\n",
       "      <th>clock_speed</th>\n",
       "      <th>graphic_card_size</th>\n",
       "      <th>weight</th>\n",
       "    </tr>\n",
       "  </thead>\n",
       "  <tbody>\n",
       "    <tr>\n",
       "      <td>count</td>\n",
       "      <td>167.000000</td>\n",
       "      <td>167.00000</td>\n",
       "      <td>167.000000</td>\n",
       "      <td>167.000000</td>\n",
       "      <td>166.000000</td>\n",
       "      <td>81.000000</td>\n",
       "      <td>160.000000</td>\n",
       "    </tr>\n",
       "    <tr>\n",
       "      <td>mean</td>\n",
       "      <td>6.898204</td>\n",
       "      <td>768.91018</td>\n",
       "      <td>14.775210</td>\n",
       "      <td>64132.898204</td>\n",
       "      <td>2.321084</td>\n",
       "      <td>52.160494</td>\n",
       "      <td>2.250812</td>\n",
       "    </tr>\n",
       "    <tr>\n",
       "      <td>std</td>\n",
       "      <td>3.787479</td>\n",
       "      <td>392.99080</td>\n",
       "      <td>1.376526</td>\n",
       "      <td>42797.674010</td>\n",
       "      <td>0.554187</td>\n",
       "      <td>444.134142</td>\n",
       "      <td>0.648446</td>\n",
       "    </tr>\n",
       "    <tr>\n",
       "      <td>min</td>\n",
       "      <td>2.000000</td>\n",
       "      <td>32.00000</td>\n",
       "      <td>10.100000</td>\n",
       "      <td>13872.000000</td>\n",
       "      <td>1.100000</td>\n",
       "      <td>1.000000</td>\n",
       "      <td>0.780000</td>\n",
       "    </tr>\n",
       "    <tr>\n",
       "      <td>25%</td>\n",
       "      <td>4.000000</td>\n",
       "      <td>500.00000</td>\n",
       "      <td>14.000000</td>\n",
       "      <td>35457.500000</td>\n",
       "      <td>1.900000</td>\n",
       "      <td>2.000000</td>\n",
       "      <td>1.900000</td>\n",
       "    </tr>\n",
       "    <tr>\n",
       "      <td>50%</td>\n",
       "      <td>8.000000</td>\n",
       "      <td>1024.00000</td>\n",
       "      <td>15.600000</td>\n",
       "      <td>47990.000000</td>\n",
       "      <td>2.300000</td>\n",
       "      <td>2.000000</td>\n",
       "      <td>2.200000</td>\n",
       "    </tr>\n",
       "    <tr>\n",
       "      <td>75%</td>\n",
       "      <td>8.000000</td>\n",
       "      <td>1024.00000</td>\n",
       "      <td>15.600000</td>\n",
       "      <td>77494.500000</td>\n",
       "      <td>2.600000</td>\n",
       "      <td>4.000000</td>\n",
       "      <td>2.600000</td>\n",
       "    </tr>\n",
       "    <tr>\n",
       "      <td>max</td>\n",
       "      <td>16.000000</td>\n",
       "      <td>2048.00000</td>\n",
       "      <td>17.600000</td>\n",
       "      <td>226000.000000</td>\n",
       "      <td>3.800000</td>\n",
       "      <td>4000.000000</td>\n",
       "      <td>4.200000</td>\n",
       "    </tr>\n",
       "  </tbody>\n",
       "</table>\n",
       "</div>"
      ],
      "text/plain": [
       "              ram     hd_size  screen_size          price  clock_speed  \\\n",
       "count  167.000000   167.00000   167.000000     167.000000   166.000000   \n",
       "mean     6.898204   768.91018    14.775210   64132.898204     2.321084   \n",
       "std      3.787479   392.99080     1.376526   42797.674010     0.554187   \n",
       "min      2.000000    32.00000    10.100000   13872.000000     1.100000   \n",
       "25%      4.000000   500.00000    14.000000   35457.500000     1.900000   \n",
       "50%      8.000000  1024.00000    15.600000   47990.000000     2.300000   \n",
       "75%      8.000000  1024.00000    15.600000   77494.500000     2.600000   \n",
       "max     16.000000  2048.00000    17.600000  226000.000000     3.800000   \n",
       "\n",
       "       graphic_card_size      weight  \n",
       "count          81.000000  160.000000  \n",
       "mean           52.160494    2.250812  \n",
       "std           444.134142    0.648446  \n",
       "min             1.000000    0.780000  \n",
       "25%             2.000000    1.900000  \n",
       "50%             2.000000    2.200000  \n",
       "75%             4.000000    2.600000  \n",
       "max          4000.000000    4.200000  "
      ]
     },
     "execution_count": 12,
     "metadata": {},
     "output_type": "execute_result"
    }
   ],
   "source": [
    "laptops_df.describe()"
   ]
  },
  {
   "cell_type": "code",
   "execution_count": null,
   "metadata": {},
   "outputs": [],
   "source": [
    "laptops_df.sort_values(by = 'price')"
   ]
  },
  {
   "cell_type": "code",
   "execution_count": null,
   "metadata": {},
   "outputs": [],
   "source": [
    "laptops_df.sort_values(by = 'price', ascending = False)"
   ]
  },
  {
   "cell_type": "code",
   "execution_count": null,
   "metadata": {},
   "outputs": [],
   "source": [
    "laptops_df"
   ]
  },
  {
   "cell_type": "code",
   "execution_count": null,
   "metadata": {},
   "outputs": [],
   "source": [
    "laptops_df.sort_values(by = 'price', ascending = False, inplace = True)\n",
    "laptops_df"
   ]
  },
  {
   "cell_type": "code",
   "execution_count": null,
   "metadata": {},
   "outputs": [],
   "source": [
    "laptops_df['brand']"
   ]
  },
  {
   "cell_type": "code",
   "execution_count": null,
   "metadata": {},
   "outputs": [],
   "source": [
    "laptops_df['brand'].unique()"
   ]
  },
  {
   "cell_type": "code",
   "execution_count": null,
   "metadata": {},
   "outputs": [],
   "source": [
    "laptops_df['brand'].value_counts()"
   ]
  },
  {
   "cell_type": "code",
   "execution_count": 13,
   "metadata": {},
   "outputs": [
    {
     "data": {
      "text/plain": [
       "count     167\n",
       "unique      8\n",
       "top        HP\n",
       "freq       55\n",
       "Name: brand, dtype: object"
      ]
     },
     "execution_count": 13,
     "metadata": {},
     "output_type": "execute_result"
    }
   ],
   "source": [
    "laptops_df['brand'].describe()"
   ]
  },
  {
   "cell_type": "code",
   "execution_count": 15,
   "metadata": {},
   "outputs": [],
   "source": [
    "laptops_df = pd.read_csv('C:/Users/choyj/Desktop/Python/Data_Science/DataFrame/laptops.csv')\n"
   ]
  },
  {
   "cell_type": "code",
   "execution_count": 16,
   "metadata": {},
   "outputs": [
    {
     "ename": "NameError",
     "evalue": "name 'cities_df' is not defined",
     "output_type": "error",
     "traceback": [
      "\u001b[1;31m---------------------------------------------------------------------------\u001b[0m",
      "\u001b[1;31mNameError\u001b[0m                                 Traceback (most recent call last)",
      "\u001b[1;32m<ipython-input-16-ca1781932196>\u001b[0m in \u001b[0;36m<module>\u001b[1;34m\u001b[0m\n\u001b[1;32m----> 1\u001b[1;33m \u001b[0mcities_df\u001b[0m\u001b[1;33m[\u001b[0m\u001b[1;34m'Country'\u001b[0m\u001b[1;33m]\u001b[0m\u001b[1;33m.\u001b[0m\u001b[0mdescribe\u001b[0m\u001b[1;33m(\u001b[0m\u001b[1;33m)\u001b[0m\u001b[1;33m\u001b[0m\u001b[1;33m\u001b[0m\u001b[0m\n\u001b[0m",
      "\u001b[1;31mNameError\u001b[0m: name 'cities_df' is not defined"
     ]
    }
   ],
   "source": [
    "cities_df['Country'].describe()"
   ]
  },
  {
   "cell_type": "code",
   "execution_count": 14,
   "metadata": {},
   "outputs": [
    {
     "ename": "NameError",
     "evalue": "name 'cities_df' is not defined",
     "output_type": "error",
     "traceback": [
      "\u001b[1;31m---------------------------------------------------------------------------\u001b[0m",
      "\u001b[1;31mNameError\u001b[0m                                 Traceback (most recent call last)",
      "\u001b[1;32m<ipython-input-14-5ead4037bd30>\u001b[0m in \u001b[0;36m<module>\u001b[1;34m\u001b[0m\n\u001b[1;32m----> 1\u001b[1;33m \u001b[0mcities_df\u001b[0m\u001b[1;33m[\u001b[0m\u001b[1;34m'City / Urban area'\u001b[0m\u001b[1;33m]\u001b[0m\u001b[1;33m.\u001b[0m\u001b[0mdescribe\u001b[0m\u001b[1;33m(\u001b[0m\u001b[1;33m)\u001b[0m\u001b[1;33m\u001b[0m\u001b[1;33m\u001b[0m\u001b[0m\n\u001b[0m",
      "\u001b[1;31mNameError\u001b[0m: name 'cities_df' is not defined"
     ]
    }
   ],
   "source": [
    "cities_df['City / Urban area'].describe()"
   ]
  },
  {
   "cell_type": "code",
   "execution_count": null,
   "metadata": {},
   "outputs": [],
   "source": [
    "cities_df['Country'].value_counts()"
   ]
  },
  {
   "cell_type": "code",
   "execution_count": null,
   "metadata": {},
   "outputs": [],
   "source": [
    "cities_df['City / Urban area'].value_counts().shape"
   ]
  },
  {
   "cell_type": "code",
   "execution_count": null,
   "metadata": {},
   "outputs": [],
   "source": [
    "cities_df\n",
    "cities_df['Population'].value_counts()"
   ]
  },
  {
   "cell_type": "code",
   "execution_count": null,
   "metadata": {},
   "outputs": [],
   "source": [
    "type(cities_df)"
   ]
  },
  {
   "cell_type": "code",
   "execution_count": null,
   "metadata": {},
   "outputs": [],
   "source": [
    "cities_df['density'] = cities_df['Population'] / cities_df['Land area (in sqKm)'] \n",
    "\n",
    "cities_df.sort_values(by = 'density', ascending = False)"
   ]
  },
  {
   "cell_type": "code",
   "execution_count": null,
   "metadata": {},
   "outputs": [],
   "source": [
    "countries = cities_df['Country'].value_counts()\n",
    "countries[countries == 4]"
   ]
  },
  {
   "cell_type": "code",
   "execution_count": null,
   "metadata": {
    "scrolled": false
   },
   "outputs": [],
   "source": [
    "df = pd.read_csv('C:/Users/choyj/Desktop/Python/Data_Science/DataFrame/enrolment_1.csv')\n",
    "df"
   ]
  },
  {
   "cell_type": "code",
   "execution_count": null,
   "metadata": {},
   "outputs": [],
   "source": [
    "df['status'] = 'allowed'\n",
    "ban_1 = (df['course name'] == 'information technology') & (df['year'] == 1)\n",
    "df.loc[ban_1, 'status'] = 'not allowed' \n",
    "df"
   ]
  },
  {
   "cell_type": "code",
   "execution_count": null,
   "metadata": {
    "scrolled": true
   },
   "outputs": [],
   "source": [
    "ban_2 = (df['course name'] == 'commerce') & (df['year'] == 4)\n",
    "df.loc[ban_2, 'status'] = 'not allowed' \n",
    "df"
   ]
  },
  {
   "cell_type": "code",
   "execution_count": null,
   "metadata": {},
   "outputs": [],
   "source": [
    "counts_list = df['course name'].value_counts()\n",
    "\n",
    "count_list = counts_list.index\n",
    "for course_name in count_list:\n",
    "    if counts_list[course_name] < 5:\n",
    "        df.loc[df['course name'] == course_name, 'status'] = 'not allowed'\n",
    "df"
   ]
  },
  {
   "cell_type": "code",
   "execution_count": null,
   "metadata": {},
   "outputs": [],
   "source": [
    "for course_name in count_list:\n",
    "    if counts_list[course_name] >= 80:\n",
    "        df.loc[df['course name'] == course_name, 'room assignment'] = 'Auditorium'\n",
    "    elif counts_list[course_name] >= 40:\n",
    "        df.loc[df['course name'] == course_name, 'room assignment'] = 'Large room'\n",
    "    elif counts_list[course_name] >= 15:\n",
    "        df.loc[df['course name'] == course_name, 'room assignment'] = 'Medium room'\n",
    "    else:\n",
    "        df.loc[df['course name'] == course_name, 'room assignment'] = 'not assigned'\n",
    "        \n",
    "df.loc[df['status'] == 'not allowed', 'room assignment'] = 'not assigned'\n",
    "df"
   ]
  },
  {
   "cell_type": "code",
   "execution_count": 2,
   "metadata": {
    "scrolled": true
   },
   "outputs": [
    {
     "data": {
      "text/html": [
       "<div>\n",
       "<style scoped>\n",
       "    .dataframe tbody tr th:only-of-type {\n",
       "        vertical-align: middle;\n",
       "    }\n",
       "\n",
       "    .dataframe tbody tr th {\n",
       "        vertical-align: top;\n",
       "    }\n",
       "\n",
       "    .dataframe thead th {\n",
       "        text-align: right;\n",
       "    }\n",
       "</style>\n",
       "<table border=\"1\" class=\"dataframe\">\n",
       "  <thead>\n",
       "    <tr style=\"text-align: right;\">\n",
       "      <th></th>\n",
       "      <th>id</th>\n",
       "      <th>year</th>\n",
       "      <th>course name</th>\n",
       "      <th>status</th>\n",
       "      <th>room assignment</th>\n",
       "    </tr>\n",
       "  </thead>\n",
       "  <tbody>\n",
       "    <tr>\n",
       "      <td>0</td>\n",
       "      <td>2777729</td>\n",
       "      <td>1</td>\n",
       "      <td>science</td>\n",
       "      <td>allowed</td>\n",
       "      <td>Auditorium</td>\n",
       "    </tr>\n",
       "    <tr>\n",
       "      <td>1</td>\n",
       "      <td>2777730</td>\n",
       "      <td>2</td>\n",
       "      <td>science</td>\n",
       "      <td>allowed</td>\n",
       "      <td>Auditorium</td>\n",
       "    </tr>\n",
       "    <tr>\n",
       "      <td>2</td>\n",
       "      <td>2777765</td>\n",
       "      <td>1</td>\n",
       "      <td>arts</td>\n",
       "      <td>allowed</td>\n",
       "      <td>Auditorium</td>\n",
       "    </tr>\n",
       "    <tr>\n",
       "      <td>3</td>\n",
       "      <td>2777766</td>\n",
       "      <td>2</td>\n",
       "      <td>arts</td>\n",
       "      <td>allowed</td>\n",
       "      <td>Auditorium</td>\n",
       "    </tr>\n",
       "    <tr>\n",
       "      <td>4</td>\n",
       "      <td>2777785</td>\n",
       "      <td>1</td>\n",
       "      <td>mba</td>\n",
       "      <td>allowed</td>\n",
       "      <td>Small room</td>\n",
       "    </tr>\n",
       "    <tr>\n",
       "      <td>...</td>\n",
       "      <td>...</td>\n",
       "      <td>...</td>\n",
       "      <td>...</td>\n",
       "      <td>...</td>\n",
       "      <td>...</td>\n",
       "    </tr>\n",
       "    <tr>\n",
       "      <td>1995</td>\n",
       "      <td>2796805</td>\n",
       "      <td>3</td>\n",
       "      <td>computer application</td>\n",
       "      <td>allowed</td>\n",
       "      <td>Medium room</td>\n",
       "    </tr>\n",
       "    <tr>\n",
       "      <td>1996</td>\n",
       "      <td>2796812</td>\n",
       "      <td>1</td>\n",
       "      <td>nursing</td>\n",
       "      <td>allowed</td>\n",
       "      <td>Medium room</td>\n",
       "    </tr>\n",
       "    <tr>\n",
       "      <td>1997</td>\n",
       "      <td>2796813</td>\n",
       "      <td>2</td>\n",
       "      <td>nursing</td>\n",
       "      <td>allowed</td>\n",
       "      <td>Medium room</td>\n",
       "    </tr>\n",
       "    <tr>\n",
       "      <td>1998</td>\n",
       "      <td>2796814</td>\n",
       "      <td>3</td>\n",
       "      <td>nursing</td>\n",
       "      <td>allowed</td>\n",
       "      <td>Medium room</td>\n",
       "    </tr>\n",
       "    <tr>\n",
       "      <td>1999</td>\n",
       "      <td>2796815</td>\n",
       "      <td>4</td>\n",
       "      <td>nursing</td>\n",
       "      <td>allowed</td>\n",
       "      <td>Medium room</td>\n",
       "    </tr>\n",
       "  </tbody>\n",
       "</table>\n",
       "<p>2000 rows × 5 columns</p>\n",
       "</div>"
      ],
      "text/plain": [
       "           id  year           course name   status room assignment\n",
       "0     2777729     1               science  allowed      Auditorium\n",
       "1     2777730     2               science  allowed      Auditorium\n",
       "2     2777765     1                  arts  allowed      Auditorium\n",
       "3     2777766     2                  arts  allowed      Auditorium\n",
       "4     2777785     1                   mba  allowed      Small room\n",
       "...       ...   ...                   ...      ...             ...\n",
       "1995  2796805     3  computer application  allowed     Medium room\n",
       "1996  2796812     1               nursing  allowed     Medium room\n",
       "1997  2796813     2               nursing  allowed     Medium room\n",
       "1998  2796814     3               nursing  allowed     Medium room\n",
       "1999  2796815     4               nursing  allowed     Medium room\n",
       "\n",
       "[2000 rows x 5 columns]"
      ]
     },
     "execution_count": 2,
     "metadata": {},
     "output_type": "execute_result"
    }
   ],
   "source": [
    "df = pd.read_csv('C:/Users/choyj/Desktop/Python/Data_Science/DataFrame/enrolment_3.csv')\n",
    "df"
   ]
  },
  {
   "cell_type": "code",
   "execution_count": 5,
   "metadata": {},
   "outputs": [
    {
     "data": {
      "text/plain": [
       "['arts', 'science', 'commerce']"
      ]
     },
     "execution_count": 5,
     "metadata": {},
     "output_type": "execute_result"
    }
   ],
   "source": [
    "\n",
    "auditorium = df[df['room assignment'] == 'Auditorium']\n",
    "auditorium_names = list(auditorium['course name'].value_counts().index)\n",
    "\n",
    "\n",
    "    "
   ]
  },
  {
   "cell_type": "code",
   "execution_count": null,
   "metadata": {},
   "outputs": [],
   "source": [
    "df.rename(columns = {'room assignment' : 'room number'})"
   ]
  }
 ],
 "metadata": {
  "kernelspec": {
   "display_name": "Python 3",
   "language": "python",
   "name": "python3"
  },
  "language_info": {
   "codemirror_mode": {
    "name": "ipython",
    "version": 3
   },
   "file_extension": ".py",
   "mimetype": "text/x-python",
   "name": "python",
   "nbconvert_exporter": "python",
   "pygments_lexer": "ipython3",
   "version": "3.7.4"
  }
 },
 "nbformat": 4,
 "nbformat_minor": 2
}
