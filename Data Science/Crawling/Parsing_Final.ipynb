{
 "cells": [
  {
   "cell_type": "code",
   "execution_count": 1,
   "metadata": {},
   "outputs": [],
   "source": [
    "import numpy as np\n",
    "import pandas as pd"
   ]
  },
  {
   "cell_type": "code",
   "execution_count": 3,
   "metadata": {},
   "outputs": [],
   "source": [
    "two_dimensional_list = [['dongwook', 80, 90], ['haneul', 50, 70], ['yongjin', 100, 100]]\n",
    "two_dimensional_array = np.array(two_dimensional_list)\n",
    "list_of_series = [\n",
    "    pd.Series(['dongwook', 80, 90]),\n",
    "    pd.Series(['haneul', 50, 70]),\n",
    "    pd.Series(['yongjin', 100, 100])\n",
    "]\n",
    "\n",
    "df1 = pd.DataFrame(two_dimensional_list)"
   ]
  },
  {
   "cell_type": "code",
   "execution_count": 4,
   "metadata": {},
   "outputs": [
    {
     "data": {
      "text/plain": [
       "[['dongwook', 80, 90], ['haneul', 50, 70], ['yongjin', 100, 100]]"
      ]
     },
     "execution_count": 4,
     "metadata": {},
     "output_type": "execute_result"
    }
   ],
   "source": [
    "two_dimensional_list"
   ]
  },
  {
   "cell_type": "code",
   "execution_count": 5,
   "metadata": {},
   "outputs": [
    {
     "data": {
      "text/plain": [
       "array([['dongwook', '80', '90'],\n",
       "       ['haneul', '50', '70'],\n",
       "       ['yongjin', '100', '100']], dtype='<U8')"
      ]
     },
     "execution_count": 5,
     "metadata": {},
     "output_type": "execute_result"
    }
   ],
   "source": [
    "two_dimensional_array"
   ]
  },
  {
   "cell_type": "code",
   "execution_count": 6,
   "metadata": {},
   "outputs": [
    {
     "data": {
      "text/plain": [
       "numpy.ndarray"
      ]
     },
     "execution_count": 6,
     "metadata": {},
     "output_type": "execute_result"
    }
   ],
   "source": [
    "type(two_dimensional_array)"
   ]
  },
  {
   "cell_type": "code",
   "execution_count": 7,
   "metadata": {},
   "outputs": [
    {
     "data": {
      "text/plain": [
       "list"
      ]
     },
     "execution_count": 7,
     "metadata": {},
     "output_type": "execute_result"
    }
   ],
   "source": [
    "type(two_dimensional_list)"
   ]
  },
  {
   "cell_type": "code",
   "execution_count": 8,
   "metadata": {},
   "outputs": [
    {
     "data": {
      "text/plain": [
       "list"
      ]
     },
     "execution_count": 8,
     "metadata": {},
     "output_type": "execute_result"
    }
   ],
   "source": [
    "type(list_of_series)"
   ]
  },
  {
   "cell_type": "code",
   "execution_count": 9,
   "metadata": {},
   "outputs": [
    {
     "data": {
      "text/html": [
       "<div>\n",
       "<style scoped>\n",
       "    .dataframe tbody tr th:only-of-type {\n",
       "        vertical-align: middle;\n",
       "    }\n",
       "\n",
       "    .dataframe tbody tr th {\n",
       "        vertical-align: top;\n",
       "    }\n",
       "\n",
       "    .dataframe thead th {\n",
       "        text-align: right;\n",
       "    }\n",
       "</style>\n",
       "<table border=\"1\" class=\"dataframe\">\n",
       "  <thead>\n",
       "    <tr style=\"text-align: right;\">\n",
       "      <th></th>\n",
       "      <th>0</th>\n",
       "      <th>1</th>\n",
       "      <th>2</th>\n",
       "    </tr>\n",
       "  </thead>\n",
       "  <tbody>\n",
       "    <tr>\n",
       "      <td>0</td>\n",
       "      <td>dongwook</td>\n",
       "      <td>80</td>\n",
       "      <td>90</td>\n",
       "    </tr>\n",
       "    <tr>\n",
       "      <td>1</td>\n",
       "      <td>haneul</td>\n",
       "      <td>50</td>\n",
       "      <td>70</td>\n",
       "    </tr>\n",
       "    <tr>\n",
       "      <td>2</td>\n",
       "      <td>yongjin</td>\n",
       "      <td>100</td>\n",
       "      <td>100</td>\n",
       "    </tr>\n",
       "  </tbody>\n",
       "</table>\n",
       "</div>"
      ],
      "text/plain": [
       "          0    1    2\n",
       "0  dongwook   80   90\n",
       "1    haneul   50   70\n",
       "2   yongjin  100  100"
      ]
     },
     "execution_count": 9,
     "metadata": {},
     "output_type": "execute_result"
    }
   ],
   "source": [
    "df1"
   ]
  },
  {
   "cell_type": "code",
   "execution_count": 11,
   "metadata": {},
   "outputs": [],
   "source": [
    "import requests\n",
    "from bs4 import BeautifulSoup"
   ]
  },
  {
   "cell_type": "raw",
   "metadata": {},
   "source": [
    "records = []"
   ]
  },
  {
   "cell_type": "code",
   "execution_count": 16,
   "metadata": {},
   "outputs": [],
   "source": [
    "page_num = 1"
   ]
  },
  {
   "cell_type": "code",
   "execution_count": 18,
   "metadata": {},
   "outputs": [
    {
     "name": "stdout",
     "output_type": "stream",
     "text": [
      "0\n",
      "[]\n"
     ]
    }
   ],
   "source": [
    "records = []\n",
    "while True:\n",
    "    # HTML 코드 받아오기\n",
    "    response = requests.get('https://www.ikea.com/kr/ko/cat/tables-desks-fu004/?page=' + str(page_num))\n",
    "    # BeautifulSoup 타입으로 변경하기\n",
    "    soup = BeautifulSoup(response.text, 'html.parser')\n",
    "    if len(soup.select('.prodName')) > 0:\n",
    "        product_names = soup.select('.prodName')\n",
    "        product_prices = soup.select('prodPrice')\n",
    "        product_urls = soup.select('.prodImg')\n",
    "        page_num += 1\n",
    "        \n",
    "        index = 0\n",
    "        for name in product_names:\n",
    "            record = []\n",
    "            record.append(product_names[index].text)\n",
    "            record.append(product_prices[index].text.strip())\n",
    "            record.append(\"https://www.ikea.com\" + product_urls[index].get('src'))\n",
    "            records.append(record)\n",
    "            index += 1\n",
    "    else:\n",
    "        break\n",
    "        \n",
    "print(len(records))\n",
    "print(records)\n"
   ]
  },
  {
   "cell_type": "code",
   "execution_count": null,
   "metadata": {},
   "outputs": [],
   "source": [
    "df = pd.DataFrame(data = records, columns = ['이름', '가격', '주소'])"
   ]
  },
  {
   "cell_type": "code",
   "execution_count": 76,
   "metadata": {},
   "outputs": [],
   "source": [
    "records = []\n",
    "for year in range(2010, 2019):\n",
    "    for month in range(1, 13):\n",
    "        page_num = 0\n",
    "        response = requests.get('https://workey.codeit.kr/ratings/index?year=' + str(year) + '&month=' +str(month) + '&weekIndex=' + str(page_num))\n",
    "        soup = BeautifulSoup(response.text, 'html.parser')\n",
    "        periods = soup.select('#weekSelectBox')\n",
    "        li = periods[0].text\n",
    "        li = li.strip('\\n')\n",
    "        li = li.split('\\n')\n",
    "        for page in range(len(li)):\n",
    "            response = requests.get('https://workey.codeit.kr/ratings/index?year=' + str(year) + '&month=' +str(month) + '&weekIndex=' + str(page))\n",
    "            soup = BeautifulSoup(response.text, 'html.parser')\n",
    "            ranks = soup.select('.row .rank')\n",
    "            channels = soup.select('.row .channel')\n",
    "            programs = soup.select('.row .program')\n",
    "            percentage = soup.select('.row .percent')                \n",
    "            index = 0\n",
    "            for i in range(1, len(ranks)):\n",
    "                record = []\n",
    "                record.append(li[page])\n",
    "                record.append(ranks[i].text)\n",
    "                record.append(channels[i].text)\n",
    "                record.append(programs[i].text)\n",
    "                record.append(percentage[i].text)\n",
    "                records.append(record)\n",
    "\n",
    "df = pd.DataFrame(data = records, columns = ['period', 'rank', 'channel', 'program', 'rating'])"
   ]
  },
  {
   "cell_type": "code",
   "execution_count": 78,
   "metadata": {},
   "outputs": [
    {
     "data": {
      "text/html": [
       "<div>\n",
       "<style scoped>\n",
       "    .dataframe tbody tr th:only-of-type {\n",
       "        vertical-align: middle;\n",
       "    }\n",
       "\n",
       "    .dataframe tbody tr th {\n",
       "        vertical-align: top;\n",
       "    }\n",
       "\n",
       "    .dataframe thead th {\n",
       "        text-align: right;\n",
       "    }\n",
       "</style>\n",
       "<table border=\"1\" class=\"dataframe\">\n",
       "  <thead>\n",
       "    <tr style=\"text-align: right;\">\n",
       "      <th></th>\n",
       "      <th>period</th>\n",
       "      <th>rank</th>\n",
       "      <th>channel</th>\n",
       "      <th>program</th>\n",
       "      <th>rating</th>\n",
       "    </tr>\n",
       "  </thead>\n",
       "  <tbody>\n",
       "    <tr>\n",
       "      <td>0</td>\n",
       "      <td>2009.12.28 ~ 2010.01.03</td>\n",
       "      <td>1</td>\n",
       "      <td>KBS2</td>\n",
       "      <td>주말연속극(수상한삼형제)</td>\n",
       "      <td>33.4</td>\n",
       "    </tr>\n",
       "    <tr>\n",
       "      <td>1</td>\n",
       "      <td>2009.12.28 ~ 2010.01.03</td>\n",
       "      <td>2</td>\n",
       "      <td>KBS1</td>\n",
       "      <td>일일연속극(다함께차차차)</td>\n",
       "      <td>33.1</td>\n",
       "    </tr>\n",
       "    <tr>\n",
       "      <td>2</td>\n",
       "      <td>2009.12.28 ~ 2010.01.03</td>\n",
       "      <td>3</td>\n",
       "      <td>KBS2</td>\n",
       "      <td>해피선데이</td>\n",
       "      <td>27.1</td>\n",
       "    </tr>\n",
       "    <tr>\n",
       "      <td>3</td>\n",
       "      <td>2009.12.28 ~ 2010.01.03</td>\n",
       "      <td>4</td>\n",
       "      <td>MBC</td>\n",
       "      <td>MBC연기대상2부</td>\n",
       "      <td>24.4</td>\n",
       "    </tr>\n",
       "    <tr>\n",
       "      <td>4</td>\n",
       "      <td>2009.12.28 ~ 2010.01.03</td>\n",
       "      <td>5</td>\n",
       "      <td>SBS</td>\n",
       "      <td>주말극장(천만번사랑해)</td>\n",
       "      <td>24.2</td>\n",
       "    </tr>\n",
       "  </tbody>\n",
       "</table>\n",
       "</div>"
      ],
      "text/plain": [
       "                    period rank channel        program rating\n",
       "0  2009.12.28 ~ 2010.01.03    1    KBS2  주말연속극(수상한삼형제)   33.4\n",
       "1  2009.12.28 ~ 2010.01.03    2    KBS1  일일연속극(다함께차차차)   33.1\n",
       "2  2009.12.28 ~ 2010.01.03    3    KBS2          해피선데이   27.1\n",
       "3  2009.12.28 ~ 2010.01.03    4     MBC      MBC연기대상2부   24.4\n",
       "4  2009.12.28 ~ 2010.01.03    5     SBS   주말극장(천만번사랑해)   24.2"
      ]
     },
     "execution_count": 78,
     "metadata": {},
     "output_type": "execute_result"
    }
   ],
   "source": [
    "df.head()"
   ]
  },
  {
   "cell_type": "code",
   "execution_count": 85,
   "metadata": {},
   "outputs": [],
   "source": [
    "response = requests.get('https://workey.codeit.kr/ratings/index?year=' + str(2012) + '&month=' +str(7) + '&weekIndex=' + str(1))\n",
    "soup = BeautifulSoup(response.text, 'html.parser')"
   ]
  },
  {
   "cell_type": "code",
   "execution_count": 80,
   "metadata": {},
   "outputs": [],
   "source": [
    "periods = soup.select('#weekSelectBox')\n",
    "ranks = soup.select('.row .rank')\n",
    "programs = soup.select('.row .program')\n",
    "channels = soup.select('.row .channel')\n",
    "percentage = soup.select('.row .percent')"
   ]
  },
  {
   "cell_type": "code",
   "execution_count": 84,
   "metadata": {},
   "outputs": [
    {
     "data": {
      "text/plain": [
       "'SBS'"
      ]
     },
     "execution_count": 84,
     "metadata": {},
     "output_type": "execute_result"
    }
   ],
   "source": [
    "channels[1:][1].text"
   ]
  },
  {
   "cell_type": "code",
   "execution_count": null,
   "metadata": {},
   "outputs": [],
   "source": [
    "# 기간 지정\n",
    "years = list(range(2010, 2019))\n",
    "months = list(range(1, 13))\n",
    "weeks = list(range(0, 5))\n",
    "\n",
    "# 페이지를 담는 빈 리스트 생성\n",
    "rating_pages = []\n",
    "\n",
    "for year in years:\n",
    "    for month in months:\n",
    "        for week in weeks:\n",
    "            # HTML 코드 받아오기\n",
    "            response = requests.get(\"https://workey.codeit.kr/ratings/index?year=\" + str(year) + \"&month=\" + str(month) + \"&weekIndex=\" + str(week))\n",
    "\n",
    "            # BeautifulSoup 타입으로 변환하기\n",
    "            soup = BeautifulSoup(response.text, 'html.parser')\n",
    "\n",
    "            # \"row\" 클래스가 1개를 넘는 경우만 페이지를 리스트에 추가\n",
    "            if len(soup.select('.row')) > 1:\n",
    "                rating_pages.append(soup)\n",
    "\n",
    "# 레코드를 담는 빈 리스트 만들기\n",
    "records = []\n",
    "\n",
    "# 각 페이지 파싱해서 정보 얻기\n",
    "for page in rating_pages:\n",
    "    date = page.select('option[selected=selected]')[2].text\n",
    "    ranks = page.select('.row .rank')[1:]\n",
    "    channels = page.select('.row .channel')[1:]\n",
    "    programs = page.select('.row .program')[1:]\n",
    "    percents = page.select('.row .percent')[1:]\n",
    "\n",
    "    # 페이지에 있는 10개의 레코드를 리스트에 추가\n",
    "    for i in range(10):\n",
    "        record = []\n",
    "        record.append(date)\n",
    "        record.append(ranks[i].text)\n",
    "        record.append(channels[i].text)\n",
    "        record.append(programs[i].text)\n",
    "        record.append(percents[i].text)\n",
    "        records.append(record)\n",
    "\n",
    "# DataFrame 만들기\n",
    "df = pd.DataFrame(data=records, columns=['period', 'rank', 'channel', 'program', 'rating'])\n",
    "\n",
    "# 결과 출력\n",
    "df.head()"
   ]
  }
 ],
 "metadata": {
  "kernelspec": {
   "display_name": "Python 3",
   "language": "python",
   "name": "python3"
  },
  "language_info": {
   "codemirror_mode": {
    "name": "ipython",
    "version": 3
   },
   "file_extension": ".py",
   "mimetype": "text/x-python",
   "name": "python",
   "nbconvert_exporter": "python",
   "pygments_lexer": "ipython3",
   "version": "3.7.4"
  }
 },
 "nbformat": 4,
 "nbformat_minor": 2
}
